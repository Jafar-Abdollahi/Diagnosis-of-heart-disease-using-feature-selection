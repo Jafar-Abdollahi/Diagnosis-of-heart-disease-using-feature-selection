{
 "cells": [
  {
   "cell_type": "code",
   "execution_count": 2,
   "metadata": {},
   "outputs": [
    {
     "data": {
      "text/html": [
       "<div>\n",
       "<style scoped>\n",
       "    .dataframe tbody tr th:only-of-type {\n",
       "        vertical-align: middle;\n",
       "    }\n",
       "\n",
       "    .dataframe tbody tr th {\n",
       "        vertical-align: top;\n",
       "    }\n",
       "\n",
       "    .dataframe thead th {\n",
       "        text-align: right;\n",
       "    }\n",
       "</style>\n",
       "<table border=\"1\" class=\"dataframe\">\n",
       "  <thead>\n",
       "    <tr style=\"text-align: right;\">\n",
       "      <th></th>\n",
       "      <th>sen</th>\n",
       "      <th>jens</th>\n",
       "      <th>dard ghafase sineh</th>\n",
       "      <th>feshar khun dar halat esterahat</th>\n",
       "      <th>kolestrol</th>\n",
       "      <th>ghand khun nashta</th>\n",
       "      <th>navar ghalb dar halat esterahat</th>\n",
       "      <th>hadaksar zaraban ghalb</th>\n",
       "      <th>anjin sadri nashi az varzesh</th>\n",
       "      <th>afsordegi st nashi az tamrin va varzesh nesbat be halat esterahat</th>\n",
       "      <th>shibe tamrin dar oje tamrin dar maghtae ST</th>\n",
       "      <th>tedad oroghe bozorg rangi ba flourosopy</th>\n",
       "      <th>talasemi</th>\n",
       "      <th>ehtemal voghu bimari ghalbi</th>\n",
       "    </tr>\n",
       "  </thead>\n",
       "  <tbody>\n",
       "    <tr>\n",
       "      <th>0</th>\n",
       "      <td>63</td>\n",
       "      <td>1</td>\n",
       "      <td>1</td>\n",
       "      <td>145</td>\n",
       "      <td>233</td>\n",
       "      <td>1</td>\n",
       "      <td>2</td>\n",
       "      <td>150</td>\n",
       "      <td>0</td>\n",
       "      <td>2.3</td>\n",
       "      <td>3</td>\n",
       "      <td>0</td>\n",
       "      <td>6</td>\n",
       "      <td>0</td>\n",
       "    </tr>\n",
       "    <tr>\n",
       "      <th>1</th>\n",
       "      <td>67</td>\n",
       "      <td>1</td>\n",
       "      <td>4</td>\n",
       "      <td>160</td>\n",
       "      <td>286</td>\n",
       "      <td>0</td>\n",
       "      <td>2</td>\n",
       "      <td>108</td>\n",
       "      <td>1</td>\n",
       "      <td>1.5</td>\n",
       "      <td>2</td>\n",
       "      <td>3</td>\n",
       "      <td>3</td>\n",
       "      <td>1</td>\n",
       "    </tr>\n",
       "    <tr>\n",
       "      <th>2</th>\n",
       "      <td>67</td>\n",
       "      <td>1</td>\n",
       "      <td>4</td>\n",
       "      <td>120</td>\n",
       "      <td>229</td>\n",
       "      <td>0</td>\n",
       "      <td>2</td>\n",
       "      <td>129</td>\n",
       "      <td>1</td>\n",
       "      <td>2.6</td>\n",
       "      <td>2</td>\n",
       "      <td>2</td>\n",
       "      <td>7</td>\n",
       "      <td>1</td>\n",
       "    </tr>\n",
       "    <tr>\n",
       "      <th>3</th>\n",
       "      <td>37</td>\n",
       "      <td>1</td>\n",
       "      <td>3</td>\n",
       "      <td>130</td>\n",
       "      <td>250</td>\n",
       "      <td>0</td>\n",
       "      <td>0</td>\n",
       "      <td>187</td>\n",
       "      <td>0</td>\n",
       "      <td>3.5</td>\n",
       "      <td>3</td>\n",
       "      <td>0</td>\n",
       "      <td>3</td>\n",
       "      <td>0</td>\n",
       "    </tr>\n",
       "    <tr>\n",
       "      <th>4</th>\n",
       "      <td>41</td>\n",
       "      <td>0</td>\n",
       "      <td>2</td>\n",
       "      <td>130</td>\n",
       "      <td>204</td>\n",
       "      <td>0</td>\n",
       "      <td>2</td>\n",
       "      <td>172</td>\n",
       "      <td>0</td>\n",
       "      <td>1.4</td>\n",
       "      <td>1</td>\n",
       "      <td>0</td>\n",
       "      <td>3</td>\n",
       "      <td>0</td>\n",
       "    </tr>\n",
       "  </tbody>\n",
       "</table>\n",
       "</div>"
      ],
      "text/plain": [
       "   sen  jens  dard ghafase sineh  feshar khun dar halat esterahat  kolestrol  \\\n",
       "0   63     1                   1                              145        233   \n",
       "1   67     1                   4                              160        286   \n",
       "2   67     1                   4                              120        229   \n",
       "3   37     1                   3                              130        250   \n",
       "4   41     0                   2                              130        204   \n",
       "\n",
       "   ghand khun nashta  navar ghalb dar halat esterahat  hadaksar zaraban ghalb  \\\n",
       "0                  1                                2                     150   \n",
       "1                  0                                2                     108   \n",
       "2                  0                                2                     129   \n",
       "3                  0                                0                     187   \n",
       "4                  0                                2                     172   \n",
       "\n",
       "   anjin sadri nashi az varzesh  \\\n",
       "0                             0   \n",
       "1                             1   \n",
       "2                             1   \n",
       "3                             0   \n",
       "4                             0   \n",
       "\n",
       "   afsordegi st nashi az tamrin va varzesh nesbat be halat esterahat  \\\n",
       "0                                                2.3                   \n",
       "1                                                1.5                   \n",
       "2                                                2.6                   \n",
       "3                                                3.5                   \n",
       "4                                                1.4                   \n",
       "\n",
       "   shibe tamrin dar oje tamrin dar maghtae ST  \\\n",
       "0                                           3   \n",
       "1                                           2   \n",
       "2                                           2   \n",
       "3                                           3   \n",
       "4                                           1   \n",
       "\n",
       "    tedad oroghe bozorg rangi ba flourosopy  talasemi  \\\n",
       "0                                         0         6   \n",
       "1                                         3         3   \n",
       "2                                         2         7   \n",
       "3                                         0         3   \n",
       "4                                         0         3   \n",
       "\n",
       "   ehtemal voghu bimari ghalbi  \n",
       "0                            0  \n",
       "1                            1  \n",
       "2                            1  \n",
       "3                            0  \n",
       "4                            0  "
      ]
     },
     "execution_count": 2,
     "metadata": {},
     "output_type": "execute_result"
    }
   ],
   "source": [
    "import numpy as np\n",
    "import matplotlib.pyplot as plt\n",
    "import pandas as pd\n",
    "%matplotlib inline\n",
    "Health=pd.read_excel('Health.xlsx')\n",
    "Health.head()"
   ]
  },
  {
   "cell_type": "code",
   "execution_count": 3,
   "metadata": {},
   "outputs": [
    {
     "data": {
      "text/html": [
       "<div>\n",
       "<style scoped>\n",
       "    .dataframe tbody tr th:only-of-type {\n",
       "        vertical-align: middle;\n",
       "    }\n",
       "\n",
       "    .dataframe tbody tr th {\n",
       "        vertical-align: top;\n",
       "    }\n",
       "\n",
       "    .dataframe thead th {\n",
       "        text-align: right;\n",
       "    }\n",
       "</style>\n",
       "<table border=\"1\" class=\"dataframe\">\n",
       "  <thead>\n",
       "    <tr style=\"text-align: right;\">\n",
       "      <th></th>\n",
       "      <th>sen</th>\n",
       "      <th>jens</th>\n",
       "      <th>dard ghafase sineh</th>\n",
       "      <th>feshar khun dar halat esterahat</th>\n",
       "      <th>kolestrol</th>\n",
       "      <th>ghand khun nashta</th>\n",
       "      <th>navar ghalb dar halat esterahat</th>\n",
       "      <th>hadaksar zaraban ghalb</th>\n",
       "      <th>anjin sadri nashi az varzesh</th>\n",
       "      <th>afsordegi st nashi az tamrin va varzesh nesbat be halat esterahat</th>\n",
       "      <th>shibe tamrin dar oje tamrin dar maghtae ST</th>\n",
       "      <th>tedad oroghe bozorg rangi ba flourosopy</th>\n",
       "      <th>talasemi</th>\n",
       "      <th>Outcome</th>\n",
       "    </tr>\n",
       "  </thead>\n",
       "  <tbody>\n",
       "    <tr>\n",
       "      <th>0</th>\n",
       "      <td>63</td>\n",
       "      <td>1</td>\n",
       "      <td>1</td>\n",
       "      <td>145</td>\n",
       "      <td>233</td>\n",
       "      <td>1</td>\n",
       "      <td>2</td>\n",
       "      <td>150</td>\n",
       "      <td>0</td>\n",
       "      <td>2.3</td>\n",
       "      <td>3</td>\n",
       "      <td>0</td>\n",
       "      <td>6</td>\n",
       "      <td>0</td>\n",
       "    </tr>\n",
       "    <tr>\n",
       "      <th>1</th>\n",
       "      <td>67</td>\n",
       "      <td>1</td>\n",
       "      <td>4</td>\n",
       "      <td>160</td>\n",
       "      <td>286</td>\n",
       "      <td>0</td>\n",
       "      <td>2</td>\n",
       "      <td>108</td>\n",
       "      <td>1</td>\n",
       "      <td>1.5</td>\n",
       "      <td>2</td>\n",
       "      <td>3</td>\n",
       "      <td>3</td>\n",
       "      <td>1</td>\n",
       "    </tr>\n",
       "    <tr>\n",
       "      <th>2</th>\n",
       "      <td>67</td>\n",
       "      <td>1</td>\n",
       "      <td>4</td>\n",
       "      <td>120</td>\n",
       "      <td>229</td>\n",
       "      <td>0</td>\n",
       "      <td>2</td>\n",
       "      <td>129</td>\n",
       "      <td>1</td>\n",
       "      <td>2.6</td>\n",
       "      <td>2</td>\n",
       "      <td>2</td>\n",
       "      <td>7</td>\n",
       "      <td>1</td>\n",
       "    </tr>\n",
       "  </tbody>\n",
       "</table>\n",
       "</div>"
      ],
      "text/plain": [
       "   sen  jens  dard ghafase sineh  feshar khun dar halat esterahat  kolestrol  \\\n",
       "0   63     1                   1                              145        233   \n",
       "1   67     1                   4                              160        286   \n",
       "2   67     1                   4                              120        229   \n",
       "\n",
       "   ghand khun nashta  navar ghalb dar halat esterahat  hadaksar zaraban ghalb  \\\n",
       "0                  1                                2                     150   \n",
       "1                  0                                2                     108   \n",
       "2                  0                                2                     129   \n",
       "\n",
       "   anjin sadri nashi az varzesh  \\\n",
       "0                             0   \n",
       "1                             1   \n",
       "2                             1   \n",
       "\n",
       "   afsordegi st nashi az tamrin va varzesh nesbat be halat esterahat  \\\n",
       "0                                                2.3                   \n",
       "1                                                1.5                   \n",
       "2                                                2.6                   \n",
       "\n",
       "   shibe tamrin dar oje tamrin dar maghtae ST  \\\n",
       "0                                           3   \n",
       "1                                           2   \n",
       "2                                           2   \n",
       "\n",
       "    tedad oroghe bozorg rangi ba flourosopy  talasemi  Outcome  \n",
       "0                                         0         6        0  \n",
       "1                                         3         3        1  \n",
       "2                                         2         7        1  "
      ]
     },
     "execution_count": 3,
     "metadata": {},
     "output_type": "execute_result"
    }
   ],
   "source": [
    "Health=Health.rename(columns={'ehtemal voghu bimari ghalbi':'Outcome'})\n",
    "Health.head(3)"
   ]
  },
  {
   "cell_type": "code",
   "execution_count": 4,
   "metadata": {},
   "outputs": [],
   "source": [
    "from sklearn.model_selection import train_test_split\n",
    "X=Health[['sen','jens','dard ghafase sineh','feshar khun dar halat esterahat','kolestrol','ghand khun nashta','navar ghalb dar halat esterahat','hadaksar zaraban ghalb','anjin sadri nashi az varzesh','afsordegi st nashi az tamrin va varzesh nesbat be halat esterahat','shibe tamrin dar oje tamrin dar maghtae ST','talasemi']]\n",
    "y=Health['Outcome']\n",
    "X_train,X_test,y_train,y_test=train_test_split(X,y,test_size=0.5,random_state=0)"
   ]
  },
  {
   "cell_type": "code",
   "execution_count": 5,
   "metadata": {},
   "outputs": [
    {
     "name": "stdout",
     "output_type": "stream",
     "text": [
      "[4.138e+00 1.979e+00 1.244e+01 3.154e+00 1.139e+01 2.026e-04 1.971e+00\n",
      " 1.539e+02]\n",
      "[[ 63.   1. 233. 150.]\n",
      " [ 67.   4. 286. 108.]\n",
      " [ 67.   4. 229. 129.]\n",
      " [ 37.   3. 250. 187.]\n",
      " [ 41.   2. 204. 172.]]\n"
     ]
    }
   ],
   "source": [
    "#Univariate Selection\n",
    "#Statistical tests can be used to select those features that have the strongest relationship with the output variable.\n",
    "#The scikit-learn library provides the SelectKBest class that can be used with a suite of different \n",
    "    #statistical tests to select a specific number of features.\n",
    "    \n",
    "\n",
    "# Feature Extraction with Univariate Statistical Tests (Chi-squared for classification)\n",
    "import pandas\n",
    "import numpy\n",
    "from sklearn.feature_selection import SelectKBest\n",
    "from sklearn.feature_selection import chi2\n",
    "# load data\n",
    "dataframe = pandas.read_excel('Health.xlsx')\n",
    "array = dataframe.values\n",
    "X = array[:,0:8]\n",
    "Y = array[:,8]\n",
    "# feature extraction\n",
    "test = SelectKBest(score_func=chi2, k=4)\n",
    "fit = test.fit(X, Y)\n",
    "# summarize scores\n",
    "numpy.set_printoptions(precision=3)\n",
    "print(fit.scores_)\n",
    "features = fit.transform(X)\n",
    "# summarize selected features\n",
    "print(features[0:5,:])"
   ]
  },
  {
   "cell_type": "code",
   "execution_count": 6,
   "metadata": {},
   "outputs": [
    {
     "name": "stdout",
     "output_type": "stream",
     "text": [
      "Num Features: %d\n",
      "8\n",
      "Selected Features: %s\n",
      "[False  True  True False False  True  True  True  True  True False  True]\n",
      "Feature Ranking: %s\n",
      "[4 1 1 3 5 1 1 1 1 1 2 1]\n"
     ]
    }
   ],
   "source": [
    "#Recursive Feature Elimination\n",
    "#The Recursive Feature Elimination (or RFE) works by recursively removing \n",
    "    #attributes and building a model on those attributes that remain.\n",
    "from pandas import read_csv\n",
    "from sklearn.feature_selection import RFE\n",
    "from sklearn.linear_model import LogisticRegression\n",
    "# load data\n",
    "\n",
    "dataframe = pandas.read_excel('Health.xlsx')\n",
    "array = dataframe.values\n",
    "X=Health[['sen','jens','dard ghafase sineh','feshar khun dar halat esterahat','kolestrol','ghand khun nashta','navar ghalb dar halat esterahat','hadaksar zaraban ghalb','anjin sadri nashi az varzesh','afsordegi st nashi az tamrin va varzesh nesbat be halat esterahat','shibe tamrin dar oje tamrin dar maghtae ST','talasemi']]\n",
    "Y=Health['Outcome']\n",
    "# feature extraction\n",
    "model = LogisticRegression()\n",
    "rfe = RFE(model, 8)\n",
    "fit = rfe.fit(X, Y)\n",
    "print(\"Num Features: %d\")\n",
    "print(fit.n_features_)\n",
    "print(\"Selected Features: %s\")\n",
    "print(fit.support_)\n",
    "print(\"Feature Ranking: %s\")\n",
    "print(fit.ranking_)"
   ]
  },
  {
   "cell_type": "code",
   "execution_count": 7,
   "metadata": {},
   "outputs": [
    {
     "name": "stdout",
     "output_type": "stream",
     "text": [
      "Explained Variance: %s\n",
      "[0.746 0.15  0.086]\n",
      "\n",
      "[[ 3.713e-02 -1.790e-03  1.337e-03  5.130e-02  9.980e-01  1.129e-04\n",
      "   3.211e-03 -1.915e-03  5.524e-04  9.715e-04 -6.733e-05  5.327e-04]\n",
      " [ 1.816e-01  1.065e-03  1.361e-02  1.154e-01 -1.463e-02  4.898e-04\n",
      "   3.753e-03 -9.758e-01  7.665e-03  1.823e-02  1.052e-02  2.384e-02]\n",
      " [ 1.263e-01 -1.325e-03 -5.615e-03  9.803e-01 -5.486e-02  3.663e-03\n",
      "   6.614e-03  1.407e-01 -1.956e-04  8.750e-03  2.130e-03  1.029e-02]]\n"
     ]
    }
   ],
   "source": [
    "# Principal Component Analysis\n",
    "#Principal Component Analysis (or PCA) uses linear algebra to transform the dataset into a compressed form.\n",
    "# Feature Extraction with PCA\n",
    "import numpy\n",
    "from pandas import read_csv\n",
    "from sklearn.decomposition import PCA\n",
    "# load data\n",
    "dataframe = pandas.read_excel('Health.xlsx')\n",
    "array = dataframe.values\n",
    "X=Health[['sen','jens','dard ghafase sineh','feshar khun dar halat esterahat','kolestrol','ghand khun nashta','navar ghalb dar halat esterahat','hadaksar zaraban ghalb','anjin sadri nashi az varzesh','afsordegi st nashi az tamrin va varzesh nesbat be halat esterahat','shibe tamrin dar oje tamrin dar maghtae ST','talasemi']]\n",
    "Y=Health['Outcome']\n",
    "#X = array[:,0:8]\n",
    "#Y = array[:,8]\n",
    "# feature extraction\n",
    "pca = PCA(n_components=3)\n",
    "fit = pca.fit(X,Y)\n",
    "# summarize components\n",
    "print(\"Explained Variance: %s\")\n",
    "print(fit.explained_variance_ratio_)\n",
    "print()\n",
    "print(fit.components_)"
   ]
  },
  {
   "cell_type": "code",
   "execution_count": 9,
   "metadata": {},
   "outputs": [
    {
     "data": {
      "text/plain": [
       "PCA(copy=True, iterated_power='auto', n_components=2, random_state=None,\n",
       "  svd_solver='auto', tol=0.0, whiten=False)"
      ]
     },
     "execution_count": 9,
     "metadata": {},
     "output_type": "execute_result"
    }
   ],
   "source": [
    "import numpy as np\n",
    "from sklearn.decomposition import PCA\n",
    "pca = PCA(n_components=2)\n",
    "pca.fit(X)"
   ]
  },
  {
   "cell_type": "code",
   "execution_count": 10,
   "metadata": {},
   "outputs": [
    {
     "name": "stdout",
     "output_type": "stream",
     "text": [
      "[0.746 0.15 ]\n"
     ]
    }
   ],
   "source": [
    "print(pca.explained_variance_ratio_)  # doctest: +ELLIPSIS"
   ]
  },
  {
   "cell_type": "code",
   "execution_count": 11,
   "metadata": {},
   "outputs": [
    {
     "name": "stdout",
     "output_type": "stream",
     "text": [
      "[896.226 401.501]\n"
     ]
    }
   ],
   "source": [
    "print(pca.singular_values_)  # doctest: +ELLIPSIS"
   ]
  },
  {
   "cell_type": "code",
   "execution_count": 12,
   "metadata": {},
   "outputs": [
    {
     "data": {
      "text/plain": [
       "PCA(copy=True, iterated_power='auto', n_components=2, random_state=None,\n",
       "  svd_solver='full', tol=0.0, whiten=False)"
      ]
     },
     "execution_count": 12,
     "metadata": {},
     "output_type": "execute_result"
    }
   ],
   "source": [
    "pca = PCA(n_components=2, svd_solver='full')\n",
    "pca.fit(X)  "
   ]
  },
  {
   "cell_type": "code",
   "execution_count": 18,
   "metadata": {},
   "outputs": [
    {
     "name": "stdout",
     "output_type": "stream",
     "text": [
      "[25.89 37.5  46.42 54.57 61.71 67.95 74.06 79.63 84.6  88.66 91.93 95.\n",
      " 97.62]\n"
     ]
    },
    {
     "data": {
      "text/plain": [
       "[<matplotlib.lines.Line2D at 0x24616048da0>]"
      ]
     },
     "execution_count": 18,
     "metadata": {},
     "output_type": "execute_result"
    },
    {
     "data": {
      "image/png": "[encoded data removed]",
      "text/plain": [
       "<matplotlib.figure.Figure at 0x24615dfe128>"
      ]
     },
     "metadata": {},
     "output_type": "display_data"
    }
   ],
   "source": [
    "from sklearn.decomposition import PCA\n",
    " \n",
    "import pandas as pd\n",
    " \n",
    "import matplotlib.pyplot as plt\n",
    " \n",
    "from sklearn.preprocessing import scale\n",
    " \n",
    "%matplotlib inline\n",
    " \n",
    "#Load data set\n",
    " \n",
    "#convert it to numpy arrays\n",
    " \n",
    "X=Health.values\n",
    " \n",
    "#Scaling the values\n",
    " \n",
    "X = scale(X)\n",
    " \n",
    "pca = PCA(n_components=13)\n",
    " \n",
    "pca.fit(X)\n",
    " \n",
    "#The amount of variance that each PC explains\n",
    " \n",
    "var= pca.explained_variance_ratio_\n",
    " \n",
    "#Cumulative Variance explains\n",
    " \n",
    "var1=np.cumsum(np.round(pca.explained_variance_ratio_, decimals=4)*100)\n",
    " \n",
    "print (var1)\n",
    " \n",
    "\n",
    " \n",
    "plt.plot(var1)"
   ]
  },
  {
   "cell_type": "code",
   "execution_count": null,
   "metadata": {},
   "outputs": [],
   "source": []
  },
  {
   "cell_type": "code",
   "execution_count": null,
   "metadata": {},
   "outputs": [],
   "source": []
  },
  {
   "cell_type": "code",
   "execution_count": null,
   "metadata": {},
   "outputs": [],
   "source": []
  },
  {
   "cell_type": "code",
   "execution_count": null,
   "metadata": {},
   "outputs": [],
   "source": []
  },
  {
   "cell_type": "code",
   "execution_count": 8,
   "metadata": {},
   "outputs": [
    {
     "name": "stdout",
     "output_type": "stream",
     "text": [
      "feature_importances_\n",
      "[0.091 0.046 0.121 0.084 0.074 0.02  0.033 0.085 0.073 0.108 0.071 0.196]\n"
     ]
    }
   ],
   "source": [
    "#Feature Importance\n",
    "#Bagged decision trees like Random Forest and Extra Trees can be used to estimate the importance of features.\n",
    "\n",
    "# Feature Importance with Extra Trees Classifier\n",
    "from pandas import read_csv\n",
    "from sklearn.ensemble import ExtraTreesClassifier\n",
    "# load data\n",
    "dataframe = pandas.read_excel('Health.xlsx')\n",
    "array = dataframe.values\n",
    "X=Health[['sen','jens','dard ghafase sineh','feshar khun dar halat esterahat','kolestrol','ghand khun nashta','navar ghalb dar halat esterahat','hadaksar zaraban ghalb','anjin sadri nashi az varzesh','afsordegi st nashi az tamrin va varzesh nesbat be halat esterahat','shibe tamrin dar oje tamrin dar maghtae ST','talasemi']]\n",
    "Y=Health['Outcome']\n",
    "# feature extraction\n",
    "model = ExtraTreesClassifier()\n",
    "model.fit(X, Y)\n",
    "print('feature_importances_')\n",
    "print(model.feature_importances_)"
   ]
  },
  {
   "cell_type": "code",
   "execution_count": null,
   "metadata": {},
   "outputs": [],
   "source": []
  },
  {
   "cell_type": "code",
   "execution_count": null,
   "metadata": {},
   "outputs": [],
   "source": []
  },
  {
   "cell_type": "code",
   "execution_count": null,
   "metadata": {},
   "outputs": [],
   "source": []
  },
  {
   "cell_type": "code",
   "execution_count": null,
   "metadata": {},
   "outputs": [],
   "source": []
  }
 ],
 "metadata": {
  "kernelspec": {
   "display_name": "Python 3",
   "language": "python",
   "name": "python3"
  },
  "language_info": {
   "codemirror_mode": {
    "name": "ipython",
    "version": 3
   },
   "file_extension": ".py",
   "mimetype": "text/x-python",
   "name": "python",
   "nbconvert_exporter": "python",
   "pygments_lexer": "ipython3",
   "version": "3.6.4"
  }
 },
 "nbformat": 4,
 "nbformat_minor": 2
}
