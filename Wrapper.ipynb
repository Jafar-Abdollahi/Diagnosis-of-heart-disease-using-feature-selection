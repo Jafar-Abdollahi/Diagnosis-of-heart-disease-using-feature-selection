{
 "cells": [
  {
   "cell_type": "code",
   "execution_count": 1,
   "metadata": {},
   "outputs": [
    {
     "data": {
      "text/html": [
       "<div>\n",
       "<style scoped>\n",
       "    .dataframe tbody tr th:only-of-type {\n",
       "        vertical-align: middle;\n",
       "    }\n",
       "\n",
       "    .dataframe tbody tr th {\n",
       "        vertical-align: top;\n",
       "    }\n",
       "\n",
       "    .dataframe thead th {\n",
       "        text-align: right;\n",
       "    }\n",
       "</style>\n",
       "<table border=\"1\" class=\"dataframe\">\n",
       "  <thead>\n",
       "    <tr style=\"text-align: right;\">\n",
       "      <th></th>\n",
       "      <th>sen</th>\n",
       "      <th>jens</th>\n",
       "      <th>dard ghafase sineh</th>\n",
       "      <th>feshar khun dar halat esterahat</th>\n",
       "      <th>kolestrol</th>\n",
       "      <th>ghand khun nashta</th>\n",
       "      <th>navar ghalb dar halat esterahat</th>\n",
       "      <th>hadaksar zaraban ghalb</th>\n",
       "      <th>anjin sadri nashi az varzesh</th>\n",
       "      <th>afsordegi st nashi az tamrin va varzesh nesbat be halat esterahat</th>\n",
       "      <th>shibe tamrin dar oje tamrin dar maghtae ST</th>\n",
       "      <th>tedad oroghe bozorg rangi ba flourosopy</th>\n",
       "      <th>talasemi</th>\n",
       "      <th>ehtemal voghu bimari ghalbi</th>\n",
       "    </tr>\n",
       "  </thead>\n",
       "  <tbody>\n",
       "    <tr>\n",
       "      <th>0</th>\n",
       "      <td>63</td>\n",
       "      <td>1</td>\n",
       "      <td>1</td>\n",
       "      <td>145</td>\n",
       "      <td>233</td>\n",
       "      <td>1</td>\n",
       "      <td>2</td>\n",
       "      <td>150</td>\n",
       "      <td>0</td>\n",
       "      <td>2.3</td>\n",
       "      <td>3</td>\n",
       "      <td>0</td>\n",
       "      <td>6</td>\n",
       "      <td>0</td>\n",
       "    </tr>\n",
       "    <tr>\n",
       "      <th>1</th>\n",
       "      <td>67</td>\n",
       "      <td>1</td>\n",
       "      <td>4</td>\n",
       "      <td>160</td>\n",
       "      <td>286</td>\n",
       "      <td>0</td>\n",
       "      <td>2</td>\n",
       "      <td>108</td>\n",
       "      <td>1</td>\n",
       "      <td>1.5</td>\n",
       "      <td>2</td>\n",
       "      <td>3</td>\n",
       "      <td>3</td>\n",
       "      <td>1</td>\n",
       "    </tr>\n",
       "    <tr>\n",
       "      <th>2</th>\n",
       "      <td>67</td>\n",
       "      <td>1</td>\n",
       "      <td>4</td>\n",
       "      <td>120</td>\n",
       "      <td>229</td>\n",
       "      <td>0</td>\n",
       "      <td>2</td>\n",
       "      <td>129</td>\n",
       "      <td>1</td>\n",
       "      <td>2.6</td>\n",
       "      <td>2</td>\n",
       "      <td>2</td>\n",
       "      <td>7</td>\n",
       "      <td>1</td>\n",
       "    </tr>\n",
       "    <tr>\n",
       "      <th>3</th>\n",
       "      <td>37</td>\n",
       "      <td>1</td>\n",
       "      <td>3</td>\n",
       "      <td>130</td>\n",
       "      <td>250</td>\n",
       "      <td>0</td>\n",
       "      <td>0</td>\n",
       "      <td>187</td>\n",
       "      <td>0</td>\n",
       "      <td>3.5</td>\n",
       "      <td>3</td>\n",
       "      <td>0</td>\n",
       "      <td>3</td>\n",
       "      <td>0</td>\n",
       "    </tr>\n",
       "    <tr>\n",
       "      <th>4</th>\n",
       "      <td>41</td>\n",
       "      <td>0</td>\n",
       "      <td>2</td>\n",
       "      <td>130</td>\n",
       "      <td>204</td>\n",
       "      <td>0</td>\n",
       "      <td>2</td>\n",
       "      <td>172</td>\n",
       "      <td>0</td>\n",
       "      <td>1.4</td>\n",
       "      <td>1</td>\n",
       "      <td>0</td>\n",
       "      <td>3</td>\n",
       "      <td>0</td>\n",
       "    </tr>\n",
       "  </tbody>\n",
       "</table>\n",
       "</div>"
      ],
      "text/plain": [
       "   sen  jens  dard ghafase sineh  feshar khun dar halat esterahat  kolestrol  \\\n",
       "0   63     1                   1                              145        233   \n",
       "1   67     1                   4                              160        286   \n",
       "2   67     1                   4                              120        229   \n",
       "3   37     1                   3                              130        250   \n",
       "4   41     0                   2                              130        204   \n",
       "\n",
       "   ghand khun nashta  navar ghalb dar halat esterahat  hadaksar zaraban ghalb  \\\n",
       "0                  1                                2                     150   \n",
       "1                  0                                2                     108   \n",
       "2                  0                                2                     129   \n",
       "3                  0                                0                     187   \n",
       "4                  0                                2                     172   \n",
       "\n",
       "   anjin sadri nashi az varzesh  \\\n",
       "0                             0   \n",
       "1                             1   \n",
       "2                             1   \n",
       "3                             0   \n",
       "4                             0   \n",
       "\n",
       "   afsordegi st nashi az tamrin va varzesh nesbat be halat esterahat  \\\n",
       "0                                                2.3                   \n",
       "1                                                1.5                   \n",
       "2                                                2.6                   \n",
       "3                                                3.5                   \n",
       "4                                                1.4                   \n",
       "\n",
       "   shibe tamrin dar oje tamrin dar maghtae ST  \\\n",
       "0                                           3   \n",
       "1                                           2   \n",
       "2                                           2   \n",
       "3                                           3   \n",
       "4                                           1   \n",
       "\n",
       "    tedad oroghe bozorg rangi ba flourosopy  talasemi  \\\n",
       "0                                         0         6   \n",
       "1                                         3         3   \n",
       "2                                         2         7   \n",
       "3                                         0         3   \n",
       "4                                         0         3   \n",
       "\n",
       "   ehtemal voghu bimari ghalbi  \n",
       "0                            0  \n",
       "1                            1  \n",
       "2                            1  \n",
       "3                            0  \n",
       "4                            0  "
      ]
     },
     "execution_count": 1,
     "metadata": {},
     "output_type": "execute_result"
    }
   ],
   "source": [
    "import numpy as np\n",
    "import matplotlib.pyplot as plt\n",
    "import pandas as pd\n",
    "%matplotlib inline\n",
    "Health=pd.read_excel('Health.xlsx')\n",
    "Health.head()"
   ]
  },
  {
   "cell_type": "code",
   "execution_count": 2,
   "metadata": {},
   "outputs": [
    {
     "data": {
      "text/html": [
       "<div>\n",
       "<style scoped>\n",
       "    .dataframe tbody tr th:only-of-type {\n",
       "        vertical-align: middle;\n",
       "    }\n",
       "\n",
       "    .dataframe tbody tr th {\n",
       "        vertical-align: top;\n",
       "    }\n",
       "\n",
       "    .dataframe thead th {\n",
       "        text-align: right;\n",
       "    }\n",
       "</style>\n",
       "<table border=\"1\" class=\"dataframe\">\n",
       "  <thead>\n",
       "    <tr style=\"text-align: right;\">\n",
       "      <th></th>\n",
       "      <th>sen</th>\n",
       "      <th>jens</th>\n",
       "      <th>dard ghafase sineh</th>\n",
       "      <th>feshar khun dar halat esterahat</th>\n",
       "      <th>kolestrol</th>\n",
       "      <th>ghand khun nashta</th>\n",
       "      <th>navar ghalb dar halat esterahat</th>\n",
       "      <th>hadaksar zaraban ghalb</th>\n",
       "      <th>anjin sadri nashi az varzesh</th>\n",
       "      <th>afsordegi st nashi az tamrin va varzesh nesbat be halat esterahat</th>\n",
       "      <th>shibe tamrin dar oje tamrin dar maghtae ST</th>\n",
       "      <th>tedad oroghe bozorg rangi ba flourosopy</th>\n",
       "      <th>talasemi</th>\n",
       "      <th>Outcome</th>\n",
       "    </tr>\n",
       "  </thead>\n",
       "  <tbody>\n",
       "    <tr>\n",
       "      <th>0</th>\n",
       "      <td>63</td>\n",
       "      <td>1</td>\n",
       "      <td>1</td>\n",
       "      <td>145</td>\n",
       "      <td>233</td>\n",
       "      <td>1</td>\n",
       "      <td>2</td>\n",
       "      <td>150</td>\n",
       "      <td>0</td>\n",
       "      <td>2.3</td>\n",
       "      <td>3</td>\n",
       "      <td>0</td>\n",
       "      <td>6</td>\n",
       "      <td>0</td>\n",
       "    </tr>\n",
       "    <tr>\n",
       "      <th>1</th>\n",
       "      <td>67</td>\n",
       "      <td>1</td>\n",
       "      <td>4</td>\n",
       "      <td>160</td>\n",
       "      <td>286</td>\n",
       "      <td>0</td>\n",
       "      <td>2</td>\n",
       "      <td>108</td>\n",
       "      <td>1</td>\n",
       "      <td>1.5</td>\n",
       "      <td>2</td>\n",
       "      <td>3</td>\n",
       "      <td>3</td>\n",
       "      <td>1</td>\n",
       "    </tr>\n",
       "    <tr>\n",
       "      <th>2</th>\n",
       "      <td>67</td>\n",
       "      <td>1</td>\n",
       "      <td>4</td>\n",
       "      <td>120</td>\n",
       "      <td>229</td>\n",
       "      <td>0</td>\n",
       "      <td>2</td>\n",
       "      <td>129</td>\n",
       "      <td>1</td>\n",
       "      <td>2.6</td>\n",
       "      <td>2</td>\n",
       "      <td>2</td>\n",
       "      <td>7</td>\n",
       "      <td>1</td>\n",
       "    </tr>\n",
       "  </tbody>\n",
       "</table>\n",
       "</div>"
      ],
      "text/plain": [
       "   sen  jens  dard ghafase sineh  feshar khun dar halat esterahat  kolestrol  \\\n",
       "0   63     1                   1                              145        233   \n",
       "1   67     1                   4                              160        286   \n",
       "2   67     1                   4                              120        229   \n",
       "\n",
       "   ghand khun nashta  navar ghalb dar halat esterahat  hadaksar zaraban ghalb  \\\n",
       "0                  1                                2                     150   \n",
       "1                  0                                2                     108   \n",
       "2                  0                                2                     129   \n",
       "\n",
       "   anjin sadri nashi az varzesh  \\\n",
       "0                             0   \n",
       "1                             1   \n",
       "2                             1   \n",
       "\n",
       "   afsordegi st nashi az tamrin va varzesh nesbat be halat esterahat  \\\n",
       "0                                                2.3                   \n",
       "1                                                1.5                   \n",
       "2                                                2.6                   \n",
       "\n",
       "   shibe tamrin dar oje tamrin dar maghtae ST  \\\n",
       "0                                           3   \n",
       "1                                           2   \n",
       "2                                           2   \n",
       "\n",
       "    tedad oroghe bozorg rangi ba flourosopy  talasemi  Outcome  \n",
       "0                                         0         6        0  \n",
       "1                                         3         3        1  \n",
       "2                                         2         7        1  "
      ]
     },
     "execution_count": 2,
     "metadata": {},
     "output_type": "execute_result"
    }
   ],
   "source": [
    "Health=Health.rename(columns={'ehtemal voghu bimari ghalbi':'Outcome'})\n",
    "Health.head(3)"
   ]
  },
  {
   "cell_type": "code",
   "execution_count": 3,
   "metadata": {},
   "outputs": [],
   "source": [
    "from sklearn.model_selection import train_test_split\n",
    "X=Health[['sen','jens','dard ghafase sineh','feshar khun dar halat esterahat','kolestrol','ghand khun nashta','navar ghalb dar halat esterahat','hadaksar zaraban ghalb','anjin sadri nashi az varzesh','afsordegi st nashi az tamrin va varzesh nesbat be halat esterahat','shibe tamrin dar oje tamrin dar maghtae ST','talasemi']]\n",
    "y=Health['Outcome']\n",
    "X_train,X_test,y_train,y_test=train_test_split(X,y,test_size=0.5,random_state=0)"
   ]
  },
  {
   "cell_type": "code",
   "execution_count": null,
   "metadata": {},
   "outputs": [],
   "source": []
  },
  {
   "cell_type": "code",
   "execution_count": null,
   "metadata": {},
   "outputs": [],
   "source": []
  },
  {
   "cell_type": "code",
   "execution_count": 6,
   "metadata": {},
   "outputs": [
    {
     "name": "stdout",
     "output_type": "stream",
     "text": [
      "Index(['sen', 'jens', 'dard ghafase sineh', 'feshar khun dar halat esterahat',\n",
      "       'kolestrol', 'ghand khun nashta', 'navar ghalb dar halat esterahat',\n",
      "       'hadaksar zaraban ghalb', 'anjin sadri nashi az varzesh',\n",
      "       'afsordegi st nashi az tamrin va varzesh nesbat be halat esterahat',\n",
      "       'shibe tamrin dar oje tamrin dar maghtae ST',\n",
      "       ' tedad oroghe bozorg rangi ba flourosopy', 'talasemi', 'Outcome'],\n",
      "      dtype='object')\n"
     ]
    }
   ],
   "source": [
    "col = Health.columns       # .columns gives columns names in data \n",
    "print(col)"
   ]
  },
  {
   "cell_type": "code",
   "execution_count": 7,
   "metadata": {},
   "outputs": [],
   "source": [
    "#Univariate feature selection and random forest classification\n",
    "from sklearn.feature_selection import SelectKBest\n",
    "from sklearn.feature_selection import chi2\n",
    "# find best scored 5 features\n",
    "select_feature = SelectKBest(chi2, k=5).fit(X_train, y_train)"
   ]
  },
  {
   "cell_type": "code",
   "execution_count": 8,
   "metadata": {},
   "outputs": [
    {
     "name": "stdout",
     "output_type": "stream",
     "text": [
      "Score list: [ 8.11676284  1.68540248  7.0774669  12.09677442 16.36794033  0.43896688\n",
      "  1.53855855 97.03893628 22.29029316 32.80458337  2.90601961 26.31185546]\n",
      "Feature list: Index(['sen', 'jens', 'dard ghafase sineh', 'feshar khun dar halat esterahat',\n",
      "       'kolestrol', 'ghand khun nashta', 'navar ghalb dar halat esterahat',\n",
      "       'hadaksar zaraban ghalb', 'anjin sadri nashi az varzesh',\n",
      "       'afsordegi st nashi az tamrin va varzesh nesbat be halat esterahat',\n",
      "       'shibe tamrin dar oje tamrin dar maghtae ST', 'talasemi'],\n",
      "      dtype='object')\n"
     ]
    }
   ],
   "source": [
    "print('Score list:', select_feature.scores_)\n",
    "print('Feature list:', X_train.columns)"
   ]
  },
  {
   "cell_type": "code",
   "execution_count": 9,
   "metadata": {},
   "outputs": [
    {
     "name": "stderr",
     "output_type": "stream",
     "text": [
      "C:\\ProgramData\\Anaconda3\\lib\\site-packages\\sklearn\\ensemble\\weight_boosting.py:29: DeprecationWarning: numpy.core.umath_tests is an internal NumPy module and should not be imported. It will be removed in a future NumPy release.\n",
      "  from numpy.core.umath_tests import inner1d\n"
     ]
    },
    {
     "name": "stdout",
     "output_type": "stream",
     "text": [
      "Accuracy is:  (111    0\n",
      "150    0\n",
      "12     1\n",
      "216    0\n",
      "139    0\n",
      "74     1\n",
      "208    1\n",
      "171    0\n",
      "187    1\n",
      "214    0\n",
      "73     1\n",
      "15     0\n",
      "267    0\n",
      "106    1\n",
      "22     1\n",
      "224    0\n",
      "266    1\n",
      "250    0\n",
      "248    1\n",
      "136    1\n",
      "64     1\n",
      "126    1\n",
      "237    0\n",
      "199    0\n",
      "89     0\n",
      "52     1\n",
      "296    1\n",
      "246    0\n",
      "279    0\n",
      "63     0\n",
      "      ..\n",
      "75     0\n",
      "124    0\n",
      "145    1\n",
      "158    0\n",
      "252    0\n",
      "109    1\n",
      "173    1\n",
      "4      0\n",
      "96     1\n",
      "272    0\n",
      "61     0\n",
      "67     0\n",
      "134    0\n",
      "194    0\n",
      "166    1\n",
      "276    1\n",
      "40     1\n",
      "182    1\n",
      "13     0\n",
      "107    1\n",
      "283    0\n",
      "3      0\n",
      "154    1\n",
      "125    1\n",
      "24     1\n",
      "30     0\n",
      "77     0\n",
      "274    1\n",
      "257    0\n",
      "19     0\n",
      "Name: Outcome, Length: 149, dtype: int64, array([0, 0, 1, 0, 0, 0, 1, 0, 1, 1, 0, 0, 1, 0, 0, 0, 1, 0, 1, 1, 1, 1,\n",
      "       0, 1, 0, 0, 0, 0, 0, 0, 1, 0, 1, 0, 0, 1, 0, 1, 1, 0, 0, 1, 0, 0,\n",
      "       0, 0, 1, 0, 0, 0, 1, 1, 1, 0, 0, 1, 0, 1, 1, 0, 1, 0, 0, 0, 0, 0,\n",
      "       0, 1, 0, 0, 0, 0, 0, 1, 0, 1, 1, 0, 0, 0, 0, 1, 1, 0, 0, 1, 0, 0,\n",
      "       0, 1, 1, 1, 1, 1, 0, 0, 0, 0, 1, 1, 1, 0, 1, 0, 0, 0, 0, 0, 1, 0,\n",
      "       1, 1, 1, 1, 0, 1, 0, 0, 0, 0, 0, 1, 0, 0, 1, 1, 0, 0, 0, 1, 0, 0,\n",
      "       0, 1, 1, 1, 0, 1, 1, 0, 1, 1, 1, 1, 0, 0, 0, 0, 0], dtype=int64))\n"
     ]
    },
    {
     "data": {
      "text/plain": [
       "<matplotlib.axes._subplots.AxesSubplot at 0x212416d0240>"
      ]
     },
     "execution_count": 9,
     "metadata": {},
     "output_type": "execute_result"
    },
    {
     "data": {
      "image/png": "[encoded data removed]",
      "text/plain": [
       "<Figure size 432x288 with 2 Axes>"
      ]
     },
     "metadata": {
      "needs_background": "light"
     },
     "output_type": "display_data"
    }
   ],
   "source": [
    "import seaborn as sns\n",
    "import matplotlib.pyplot as plt\n",
    "from sklearn.ensemble import RandomForestClassifier\n",
    "x_train_2 = select_feature.transform(X_train)\n",
    "x_test_2 = select_feature.transform(X_test)\n",
    "#random forest classifier with n_estimators=10 (default)\n",
    "clf_rf_2 = RandomForestClassifier()      \n",
    "clr_rf_2 = clf_rf_2.fit(x_train_2,y_train)\n",
    "accuracy_score= (y_test,clf_rf_2.predict(x_test_2))\n",
    "print('Accuracy is: ',accuracy_score)\n",
    "confusion_matrix=(y_test,clf_rf_2.predict(x_test_2))\n",
    "sns.heatmap(confusion_matrix,annot=True,fmt=\"d\")"
   ]
  },
  {
   "cell_type": "code",
   "execution_count": 10,
   "metadata": {},
   "outputs": [],
   "source": [
    "from sklearn.feature_selection import RFE\n",
    "# Create the RFE object and rank each pixel\n",
    "clf_rf_3 = RandomForestClassifier()      \n",
    "rfe = RFE(estimator=clf_rf_3, n_features_to_select=5, step=1)\n",
    "rfe = rfe.fit(X_train, y_train)"
   ]
  },
  {
   "cell_type": "code",
   "execution_count": 11,
   "metadata": {},
   "outputs": [
    {
     "name": "stdout",
     "output_type": "stream",
     "text": [
      "Chosen best 5 feature by rfe: Index(['sen', 'dard ghafase sineh', 'kolestrol', 'hadaksar zaraban ghalb',\n",
      "       'afsordegi st nashi az tamrin va varzesh nesbat be halat esterahat'],\n",
      "      dtype='object')\n"
     ]
    }
   ],
   "source": [
    "print('Chosen best 5 feature by rfe:',X_train.columns[rfe.support_])"
   ]
  },
  {
   "cell_type": "code",
   "execution_count": 12,
   "metadata": {},
   "outputs": [
    {
     "name": "stdout",
     "output_type": "stream",
     "text": [
      "Optimal number of features : 12\n",
      "Best features : Index(['sen', 'jens', 'dard ghafase sineh', 'feshar khun dar halat esterahat',\n",
      "       'kolestrol', 'ghand khun nashta', 'navar ghalb dar halat esterahat',\n",
      "       'hadaksar zaraban ghalb', 'anjin sadri nashi az varzesh',\n",
      "       'afsordegi st nashi az tamrin va varzesh nesbat be halat esterahat',\n",
      "       'shibe tamrin dar oje tamrin dar maghtae ST', 'talasemi'],\n",
      "      dtype='object')\n"
     ]
    }
   ],
   "source": [
    "#Recursive feature elimination with cross validation and random forest classification\n",
    "from sklearn.feature_selection import RFECV\n",
    "\n",
    "# The \"accuracy\" scoring is proportional to the number of correct classifications\n",
    "clf_rf_4 = RandomForestClassifier() \n",
    "rfecv = RFECV(estimator=clf_rf_4, step=1, cv=5,scoring='accuracy')   #5-fold cross-validation\n",
    "rfecv = rfecv.fit(X_train, y_train)\n",
    "\n",
    "print('Optimal number of features :', rfecv.n_features_)\n",
    "print('Best features :', X_train.columns[rfecv.support_])"
   ]
  },
  {
   "cell_type": "code",
   "execution_count": 13,
   "metadata": {},
   "outputs": [
    {
     "data": {
      "image/png": "[encoded data removed]",
      "text/plain": [
       "<Figure size 432x288 with 1 Axes>"
      ]
     },
     "metadata": {
      "needs_background": "light"
     },
     "output_type": "display_data"
    }
   ],
   "source": [
    "import matplotlib.pyplot as plt\n",
    "plt.figure()\n",
    "plt.xlabel(\"Number of features selected\")\n",
    "plt.ylabel(\"Cross validation score of number of selected features\")\n",
    "plt.plot(range(1, len(rfecv.grid_scores_) + 1), rfecv.grid_scores_)\n",
    "plt.show()"
   ]
  },
  {
   "cell_type": "code",
   "execution_count": 14,
   "metadata": {},
   "outputs": [
    {
     "name": "stdout",
     "output_type": "stream",
     "text": [
      "Feature ranking:\n",
      "1. feature 7 (0.213939)\n",
      "2. feature 2 (0.122862)\n",
      "3. feature 9 (0.118408)\n",
      "4. feature 11 (0.113502)\n",
      "5. feature 0 (0.110512)\n",
      "6. feature 8 (0.101944)\n",
      "7. feature 4 (0.071779)\n",
      "8. feature 3 (0.059098)\n",
      "9. feature 10 (0.040051)\n",
      "10. feature 1 (0.022832)\n",
      "11. feature 5 (0.014430)\n",
      "12. feature 6 (0.010642)\n"
     ]
    },
    {
     "data": {
      "image/png": "[encoded data removed]",
      "text/plain": [
       "<Figure size 1008x936 with 1 Axes>"
      ]
     },
     "metadata": {
      "needs_background": "light"
     },
     "output_type": "display_data"
    }
   ],
   "source": [
    "#Tree based feature selection and random forest classification\n",
    "from sklearn.ensemble import RandomForestClassifier\n",
    "clf_rf = RandomForestClassifier(random_state=43) \n",
    "clf_rf_5 = RandomForestClassifier()      \n",
    "clr_rf_5 = clf_rf_5.fit(X_train,y_train)\n",
    "importances = clr_rf_5.feature_importances_\n",
    "#std = np.std([tree.feature_importances_ for tree in clf_rf.estimator_params],axis=0)\n",
    "indices = np.argsort(importances)[::-1]\n",
    "\n",
    "# Print the feature ranking\n",
    "print(\"Feature ranking:\")\n",
    "\n",
    "for f in range(X_train.shape[1]):\n",
    "    print(\"%d. feature %d (%f)\" % (f + 1, indices[f], importances[indices[f]]))\n",
    "\n",
    "# Plot the feature importances of the forest\n",
    "\n",
    "plt.figure(1, figsize=(14, 13))\n",
    "plt.title(\"Feature importances\")\n",
    "plt.bar(range(X_train.shape[1]), importances[indices],color=\"g\", align=\"center\")\n",
    "plt.xticks(range(X_train.shape[1]), X_train.columns[indices],rotation=90)\n",
    "plt.xlim([-1, X_train.shape[1]])\n",
    "plt.show()"
   ]
  },
  {
   "cell_type": "code",
   "execution_count": 15,
   "metadata": {},
   "outputs": [
    {
     "data": {
      "text/plain": [
       "Text(0,0.5,'explained_variance_ratio_')"
      ]
     },
     "execution_count": 15,
     "metadata": {},
     "output_type": "execute_result"
    },
    {
     "data": {
      "image/png": "[encoded data removed]",
      "text/plain": [
       "<Figure size 432x360 with 1 Axes>"
      ]
     },
     "metadata": {
      "needs_background": "light"
     },
     "output_type": "display_data"
    }
   ],
   "source": [
    "#Feature Extraction\n",
    "\n",
    "# split data train 70 % and test 50 %\n",
    "X_train,X_test,y_train,y_test=train_test_split(X,y,test_size=0.5,random_state=0)\n",
    "#normalization\n",
    "x_train_N = (X_train-X_train.mean())/(X_train.max()-X_train.min())\n",
    "x_test_N = (X_test-X_test.mean())/(X_test.max()-X_test.min())\n",
    "\n",
    "from sklearn.decomposition import PCA\n",
    "pca = PCA()\n",
    "pca.fit(x_train_N)\n",
    "\n",
    "plt.figure(1, figsize=(6, 5))\n",
    "plt.clf()\n",
    "plt.axes([.2, .2, .7, .7])\n",
    "plt.plot(pca.explained_variance_ratio_, linewidth=2)\n",
    "plt.axis('tight')\n",
    "plt.xlabel('n_components')\n",
    "plt.ylabel('explained_variance_ratio_')"
   ]
  },
  {
   "cell_type": "code",
   "execution_count": null,
   "metadata": {},
   "outputs": [],
   "source": []
  },
  {
   "cell_type": "code",
   "execution_count": null,
   "metadata": {},
   "outputs": [],
   "source": []
  },
  {
   "cell_type": "code",
   "execution_count": null,
   "metadata": {},
   "outputs": [],
   "source": []
  }
 ],
 "metadata": {
  "kernelspec": {
   "display_name": "Python 3",
   "language": "python",
   "name": "python3"
  },
  "language_info": {
   "codemirror_mode": {
    "name": "ipython",
    "version": 3
   },
   "file_extension": ".py",
   "mimetype": "text/x-python",
   "name": "python",
   "nbconvert_exporter": "python",
   "pygments_lexer": "ipython3",
   "version": "3.7.0"
  }
 },
 "nbformat": 4,
 "nbformat_minor": 2
}
