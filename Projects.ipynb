{
 "cells": [
  {
   "cell_type": "code",
   "execution_count": 1,
   "metadata": {},
   "outputs": [
    {
     "data": {
      "text/html": [
       "<div>\n",
       "<style scoped>\n",
       "    .dataframe tbody tr th:only-of-type {\n",
       "        vertical-align: middle;\n",
       "    }\n",
       "\n",
       "    .dataframe tbody tr th {\n",
       "        vertical-align: top;\n",
       "    }\n",
       "\n",
       "    .dataframe thead th {\n",
       "        text-align: right;\n",
       "    }\n",
       "</style>\n",
       "<table border=\"1\" class=\"dataframe\">\n",
       "  <thead>\n",
       "    <tr style=\"text-align: right;\">\n",
       "      <th></th>\n",
       "      <th>sen</th>\n",
       "      <th>jens</th>\n",
       "      <th>dard ghafase sineh</th>\n",
       "      <th>feshar khun dar halat esterahat</th>\n",
       "      <th>kolestrol</th>\n",
       "      <th>ghand khun nashta</th>\n",
       "      <th>navar ghalb dar halat esterahat</th>\n",
       "      <th>hadaksar zaraban ghalb</th>\n",
       "      <th>anjin sadri nashi az varzesh</th>\n",
       "      <th>afsordegi st nashi az tamrin va varzesh nesbat be halat esterahat</th>\n",
       "      <th>shibe tamrin dar oje tamrin dar maghtae ST</th>\n",
       "      <th>tedad oroghe bozorg rangi ba flourosopy</th>\n",
       "      <th>talasemi</th>\n",
       "      <th>ehtemal voghu bimari ghalbi</th>\n",
       "    </tr>\n",
       "  </thead>\n",
       "  <tbody>\n",
       "    <tr>\n",
       "      <th>0</th>\n",
       "      <td>63</td>\n",
       "      <td>1</td>\n",
       "      <td>1</td>\n",
       "      <td>145</td>\n",
       "      <td>233</td>\n",
       "      <td>1</td>\n",
       "      <td>2</td>\n",
       "      <td>150</td>\n",
       "      <td>0</td>\n",
       "      <td>2.3</td>\n",
       "      <td>3</td>\n",
       "      <td>0</td>\n",
       "      <td>6</td>\n",
       "      <td>0</td>\n",
       "    </tr>\n",
       "    <tr>\n",
       "      <th>1</th>\n",
       "      <td>67</td>\n",
       "      <td>1</td>\n",
       "      <td>4</td>\n",
       "      <td>160</td>\n",
       "      <td>286</td>\n",
       "      <td>0</td>\n",
       "      <td>2</td>\n",
       "      <td>108</td>\n",
       "      <td>1</td>\n",
       "      <td>1.5</td>\n",
       "      <td>2</td>\n",
       "      <td>3</td>\n",
       "      <td>3</td>\n",
       "      <td>1</td>\n",
       "    </tr>\n",
       "    <tr>\n",
       "      <th>2</th>\n",
       "      <td>67</td>\n",
       "      <td>1</td>\n",
       "      <td>4</td>\n",
       "      <td>120</td>\n",
       "      <td>229</td>\n",
       "      <td>0</td>\n",
       "      <td>2</td>\n",
       "      <td>129</td>\n",
       "      <td>1</td>\n",
       "      <td>2.6</td>\n",
       "      <td>2</td>\n",
       "      <td>2</td>\n",
       "      <td>7</td>\n",
       "      <td>1</td>\n",
       "    </tr>\n",
       "    <tr>\n",
       "      <th>3</th>\n",
       "      <td>37</td>\n",
       "      <td>1</td>\n",
       "      <td>3</td>\n",
       "      <td>130</td>\n",
       "      <td>250</td>\n",
       "      <td>0</td>\n",
       "      <td>0</td>\n",
       "      <td>187</td>\n",
       "      <td>0</td>\n",
       "      <td>3.5</td>\n",
       "      <td>3</td>\n",
       "      <td>0</td>\n",
       "      <td>3</td>\n",
       "      <td>0</td>\n",
       "    </tr>\n",
       "    <tr>\n",
       "      <th>4</th>\n",
       "      <td>41</td>\n",
       "      <td>0</td>\n",
       "      <td>2</td>\n",
       "      <td>130</td>\n",
       "      <td>204</td>\n",
       "      <td>0</td>\n",
       "      <td>2</td>\n",
       "      <td>172</td>\n",
       "      <td>0</td>\n",
       "      <td>1.4</td>\n",
       "      <td>1</td>\n",
       "      <td>0</td>\n",
       "      <td>3</td>\n",
       "      <td>0</td>\n",
       "    </tr>\n",
       "  </tbody>\n",
       "</table>\n",
       "</div>"
      ],
      "text/plain": [
       "   sen  jens  dard ghafase sineh  feshar khun dar halat esterahat  kolestrol  \\\n",
       "0   63     1                   1                              145        233   \n",
       "1   67     1                   4                              160        286   \n",
       "2   67     1                   4                              120        229   \n",
       "3   37     1                   3                              130        250   \n",
       "4   41     0                   2                              130        204   \n",
       "\n",
       "   ghand khun nashta  navar ghalb dar halat esterahat  hadaksar zaraban ghalb  \\\n",
       "0                  1                                2                     150   \n",
       "1                  0                                2                     108   \n",
       "2                  0                                2                     129   \n",
       "3                  0                                0                     187   \n",
       "4                  0                                2                     172   \n",
       "\n",
       "   anjin sadri nashi az varzesh  \\\n",
       "0                             0   \n",
       "1                             1   \n",
       "2                             1   \n",
       "3                             0   \n",
       "4                             0   \n",
       "\n",
       "   afsordegi st nashi az tamrin va varzesh nesbat be halat esterahat  \\\n",
       "0                                                2.3                   \n",
       "1                                                1.5                   \n",
       "2                                                2.6                   \n",
       "3                                                3.5                   \n",
       "4                                                1.4                   \n",
       "\n",
       "   shibe tamrin dar oje tamrin dar maghtae ST  \\\n",
       "0                                           3   \n",
       "1                                           2   \n",
       "2                                           2   \n",
       "3                                           3   \n",
       "4                                           1   \n",
       "\n",
       "    tedad oroghe bozorg rangi ba flourosopy  talasemi  \\\n",
       "0                                         0         6   \n",
       "1                                         3         3   \n",
       "2                                         2         7   \n",
       "3                                         0         3   \n",
       "4                                         0         3   \n",
       "\n",
       "   ehtemal voghu bimari ghalbi  \n",
       "0                            0  \n",
       "1                            1  \n",
       "2                            1  \n",
       "3                            0  \n",
       "4                            0  "
      ]
     },
     "execution_count": 1,
     "metadata": {},
     "output_type": "execute_result"
    }
   ],
   "source": [
    "import numpy as np\n",
    "import matplotlib.pyplot as plt\n",
    "import pandas as pd\n",
    "%matplotlib inline\n",
    "Health=pd.read_excel('Health.xlsx')\n",
    "Health.head()"
   ]
  },
  {
   "cell_type": "code",
   "execution_count": 2,
   "metadata": {},
   "outputs": [
    {
     "data": {
      "text/html": [
       "<div>\n",
       "<style scoped>\n",
       "    .dataframe tbody tr th:only-of-type {\n",
       "        vertical-align: middle;\n",
       "    }\n",
       "\n",
       "    .dataframe tbody tr th {\n",
       "        vertical-align: top;\n",
       "    }\n",
       "\n",
       "    .dataframe thead th {\n",
       "        text-align: right;\n",
       "    }\n",
       "</style>\n",
       "<table border=\"1\" class=\"dataframe\">\n",
       "  <thead>\n",
       "    <tr style=\"text-align: right;\">\n",
       "      <th></th>\n",
       "      <th>sen</th>\n",
       "      <th>jens</th>\n",
       "      <th>dard ghafase sineh</th>\n",
       "      <th>feshar khun dar halat esterahat</th>\n",
       "      <th>kolestrol</th>\n",
       "      <th>ghand khun nashta</th>\n",
       "      <th>navar ghalb dar halat esterahat</th>\n",
       "      <th>hadaksar zaraban ghalb</th>\n",
       "      <th>anjin sadri nashi az varzesh</th>\n",
       "      <th>afsordegi st nashi az tamrin va varzesh nesbat be halat esterahat</th>\n",
       "      <th>shibe tamrin dar oje tamrin dar maghtae ST</th>\n",
       "      <th>tedad oroghe bozorg rangi ba flourosopy</th>\n",
       "      <th>talasemi</th>\n",
       "      <th>Outcome</th>\n",
       "    </tr>\n",
       "  </thead>\n",
       "  <tbody>\n",
       "    <tr>\n",
       "      <th>0</th>\n",
       "      <td>63</td>\n",
       "      <td>1</td>\n",
       "      <td>1</td>\n",
       "      <td>145</td>\n",
       "      <td>233</td>\n",
       "      <td>1</td>\n",
       "      <td>2</td>\n",
       "      <td>150</td>\n",
       "      <td>0</td>\n",
       "      <td>2.3</td>\n",
       "      <td>3</td>\n",
       "      <td>0</td>\n",
       "      <td>6</td>\n",
       "      <td>0</td>\n",
       "    </tr>\n",
       "    <tr>\n",
       "      <th>1</th>\n",
       "      <td>67</td>\n",
       "      <td>1</td>\n",
       "      <td>4</td>\n",
       "      <td>160</td>\n",
       "      <td>286</td>\n",
       "      <td>0</td>\n",
       "      <td>2</td>\n",
       "      <td>108</td>\n",
       "      <td>1</td>\n",
       "      <td>1.5</td>\n",
       "      <td>2</td>\n",
       "      <td>3</td>\n",
       "      <td>3</td>\n",
       "      <td>1</td>\n",
       "    </tr>\n",
       "    <tr>\n",
       "      <th>2</th>\n",
       "      <td>67</td>\n",
       "      <td>1</td>\n",
       "      <td>4</td>\n",
       "      <td>120</td>\n",
       "      <td>229</td>\n",
       "      <td>0</td>\n",
       "      <td>2</td>\n",
       "      <td>129</td>\n",
       "      <td>1</td>\n",
       "      <td>2.6</td>\n",
       "      <td>2</td>\n",
       "      <td>2</td>\n",
       "      <td>7</td>\n",
       "      <td>1</td>\n",
       "    </tr>\n",
       "  </tbody>\n",
       "</table>\n",
       "</div>"
      ],
      "text/plain": [
       "   sen  jens  dard ghafase sineh  feshar khun dar halat esterahat  kolestrol  \\\n",
       "0   63     1                   1                              145        233   \n",
       "1   67     1                   4                              160        286   \n",
       "2   67     1                   4                              120        229   \n",
       "\n",
       "   ghand khun nashta  navar ghalb dar halat esterahat  hadaksar zaraban ghalb  \\\n",
       "0                  1                                2                     150   \n",
       "1                  0                                2                     108   \n",
       "2                  0                                2                     129   \n",
       "\n",
       "   anjin sadri nashi az varzesh  \\\n",
       "0                             0   \n",
       "1                             1   \n",
       "2                             1   \n",
       "\n",
       "   afsordegi st nashi az tamrin va varzesh nesbat be halat esterahat  \\\n",
       "0                                                2.3                   \n",
       "1                                                1.5                   \n",
       "2                                                2.6                   \n",
       "\n",
       "   shibe tamrin dar oje tamrin dar maghtae ST  \\\n",
       "0                                           3   \n",
       "1                                           2   \n",
       "2                                           2   \n",
       "\n",
       "    tedad oroghe bozorg rangi ba flourosopy  talasemi  Outcome  \n",
       "0                                         0         6        0  \n",
       "1                                         3         3        1  \n",
       "2                                         2         7        1  "
      ]
     },
     "execution_count": 2,
     "metadata": {},
     "output_type": "execute_result"
    }
   ],
   "source": [
    "Health=Health.rename(columns={'ehtemal voghu bimari ghalbi':'Outcome'})\n",
    "Health.head(3)"
   ]
  },
  {
   "cell_type": "code",
   "execution_count": 3,
   "metadata": {},
   "outputs": [],
   "source": [
    "from sklearn.model_selection import train_test_split\n",
    "#Assumed you have, X (predictor) and Y (target) for training data set and x_test(predictor) of test_dataset\n",
    "X=Health[['sen','jens','dard ghafase sineh','feshar khun dar halat esterahat','kolestrol','ghand khun nashta','navar ghalb dar halat esterahat','hadaksar zaraban ghalb','anjin sadri nashi az varzesh','afsordegi st nashi az tamrin va varzesh nesbat be halat esterahat','shibe tamrin dar oje tamrin dar maghtae ST','talasemi']]\n",
    "y=Health['Outcome']\n",
    "X_train,X_test,y_train,y_test=train_test_split(X,y,test_size=0.5,random_state=0)"
   ]
  },
  {
   "cell_type": "code",
   "execution_count": 4,
   "metadata": {},
   "outputs": [
    {
     "name": "stdout",
     "output_type": "stream",
     "text": [
      "number of training data:148\n",
      "number of test data:149\n"
     ]
    }
   ],
   "source": [
    "print('number of training data:%d'% X_train.shape[0])\n",
    "print('number of test data:%d'% X_test.shape[0])"
   ]
  },
  {
   "cell_type": "code",
   "execution_count": 5,
   "metadata": {},
   "outputs": [
    {
     "data": {
      "text/plain": [
       "(297, 14)"
      ]
     },
     "execution_count": 5,
     "metadata": {},
     "output_type": "execute_result"
    }
   ],
   "source": [
    "Health.shape"
   ]
  },
  {
   "cell_type": "code",
   "execution_count": 6,
   "metadata": {},
   "outputs": [
    {
     "name": "stdout",
     "output_type": "stream",
     "text": [
      "(array([0, 1], dtype=int64), array([160, 137], dtype=int64))\n"
     ]
    }
   ],
   "source": [
    "print(np.unique(Health.Outcome ,return_counts=True))"
   ]
  },
  {
   "cell_type": "code",
   "execution_count": 7,
   "metadata": {},
   "outputs": [
    {
     "data": {
      "text/plain": [
       "sen                                                                  0\n",
       "jens                                                                 0\n",
       "dard ghafase sineh                                                   0\n",
       "feshar khun dar halat esterahat                                      0\n",
       "kolestrol                                                            0\n",
       "ghand khun nashta                                                    0\n",
       "navar ghalb dar halat esterahat                                      0\n",
       "hadaksar zaraban ghalb                                               0\n",
       "anjin sadri nashi az varzesh                                         0\n",
       "afsordegi st nashi az tamrin va varzesh nesbat be halat esterahat    0\n",
       "shibe tamrin dar oje tamrin dar maghtae ST                           0\n",
       " tedad oroghe bozorg rangi ba flourosopy                             0\n",
       "talasemi                                                             0\n",
       "Outcome                                                              0\n",
       "dtype: int64"
      ]
     },
     "execution_count": 7,
     "metadata": {},
     "output_type": "execute_result"
    }
   ],
   "source": [
    "Health.isnull().sum()"
   ]
  },
  {
   "cell_type": "code",
   "execution_count": 8,
   "metadata": {},
   "outputs": [
    {
     "data": {
      "text/plain": [
       "0    160\n",
       "1    137\n",
       "Name: Outcome, dtype: int64"
      ]
     },
     "execution_count": 8,
     "metadata": {},
     "output_type": "execute_result"
    }
   ],
   "source": [
    "Health.Outcome.value_counts()"
   ]
  },
  {
   "cell_type": "code",
   "execution_count": 9,
   "metadata": {},
   "outputs": [
    {
     "data": {
      "image/png": "[encoded data removed]",
      "text/plain": [
       "<matplotlib.figure.Figure at 0x150a675a470>"
      ]
     },
     "metadata": {},
     "output_type": "display_data"
    }
   ],
   "source": [
    "#Histogram\n",
    "Health.hist(sharex=False,sharey=False,xlabelsize=1,ylabelsize=1)\n",
    "plt.show()"
   ]
  },
  {
   "cell_type": "code",
   "execution_count": 10,
   "metadata": {},
   "outputs": [
    {
     "data": {
      "image/png": "[encoded data removed]",
      "text/plain": [
       "<matplotlib.figure.Figure at 0x150a3bcc7f0>"
      ]
     },
     "metadata": {},
     "output_type": "display_data"
    }
   ],
   "source": [
    "#Density\n",
    "Health.plot(kind='density',subplots=True,layout=(4,4),sharex=False,sharey=False,fontsize=5)\n",
    "plt.show()"
   ]
  },
  {
   "cell_type": "code",
   "execution_count": 11,
   "metadata": {},
   "outputs": [
    {
     "data": {
      "text/plain": [
       "RandomForestClassifier(bootstrap=True, class_weight=None, criterion='gini',\n",
       "            max_depth=None, max_features='auto', max_leaf_nodes=None,\n",
       "            min_impurity_decrease=0.0, min_impurity_split=None,\n",
       "            min_samples_leaf=1, min_samples_split=2,\n",
       "            min_weight_fraction_leaf=0.0, n_estimators=12, n_jobs=1,\n",
       "            oob_score=False, random_state=None, verbose=0,\n",
       "            warm_start=False)"
      ]
     },
     "execution_count": 11,
     "metadata": {},
     "output_type": "execute_result"
    }
   ],
   "source": [
    "#load Import Libarary for Machine Learning Algorithm\n",
    "from sklearn.ensemble import RandomForestClassifier\n",
    "rfc=RandomForestClassifier(n_estimators=12)\n",
    "# Train the model using the training sets and check score\n",
    "rfc.fit(X,y)"
   ]
  },
  {
   "cell_type": "code",
   "execution_count": 12,
   "metadata": {},
   "outputs": [
    {
     "name": "stdout",
     "output_type": "stream",
     "text": [
      "[1] scores for RFC= 0.7741379310344827\n"
     ]
    }
   ],
   "source": [
    "from sklearn.model_selection import cross_val_score\n",
    "from sklearn import model_selection\n",
    "kfold = model_selection.KFold(n_splits=10)\n",
    "    \n",
    "scores_RFC= cross_val_score(rfc, X, y,cv=kfold)\n",
    "print('[1]','scores for RFC=',scores_RFC.mean())"
   ]
  },
  {
   "cell_type": "code",
   "execution_count": 13,
   "metadata": {},
   "outputs": [
    {
     "name": "stdout",
     "output_type": "stream",
     "text": [
      "RFC For tset= 0.9865771812080537\n",
      "RFC For train= 0.9932432432432432\n"
     ]
    }
   ],
   "source": [
    "print('RFC For tset=',rfc.score(X_test,y_test))\n",
    "print('RFC For train=',rfc.score(X_train,y_train))"
   ]
  },
  {
   "cell_type": "code",
   "execution_count": 14,
   "metadata": {},
   "outputs": [
    {
     "name": "stdout",
     "output_type": "stream",
     "text": [
      "[1] RFC= [1]\n"
     ]
    }
   ],
   "source": [
    "Diabetic_prediction_rfc=rfc.predict([[23 , 34 , 12 , 124 , 343 , 23 , 34 , 23,42,124,45,12]]) \n",
    "lookup_Diabetic_name_rfc=[Diabetic_prediction_rfc[0]]\n",
    "print('[1]','RFC=',lookup_Diabetic_name_rfc)"
   ]
  },
  {
   "cell_type": "code",
   "execution_count": 15,
   "metadata": {},
   "outputs": [
    {
     "name": "stderr",
     "output_type": "stream",
     "text": [
      "C:\\ProgramData\\Anaconda3\\lib\\site-packages\\sklearn\\cross_validation.py:41: DeprecationWarning: This module was deprecated in version 0.18 in favor of the model_selection module into which all the refactored classes and functions are moved. Also note that the interface of the new CV iterators are different from that of this module. This module will be removed in 0.20.\n",
      "  \"This module will be removed in 0.20.\", DeprecationWarning)\n"
     ]
    },
    {
     "name": "stdout",
     "output_type": "stream",
     "text": [
      "[1] accuracy for RandomForestClassifier =0.99\n"
     ]
    }
   ],
   "source": [
    "from sklearn.cross_validation import KFold\n",
    "from sklearn.model_selection import cross_val_score\n",
    "from sklearn.discriminant_analysis import LinearDiscriminantAnalysis\n",
    "from matplotlib import pyplot\n",
    "def Diag_Diabetes():\n",
    "    import numpy as np\n",
    "    predicted=rfc.predict(X_test)\n",
    "    accurace_rfc=np.mean(predicted==y_test)\n",
    "    print('[1]','accuracy for RandomForestClassifier =%.2f'%accurace_rfc)\n",
    "Diag_Diabetes() "
   ]
  },
  {
   "cell_type": "code",
   "execution_count": 16,
   "metadata": {},
   "outputs": [
    {
     "name": "stdout",
     "output_type": "stream",
     "text": [
      "[1] rfc=\n",
      "[[74  0]\n",
      " [ 2 73]]\n",
      "\n"
     ]
    }
   ],
   "source": [
    "from sklearn.metrics import classification_report,confusion_matrix\n",
    "predicted=rfc.predict(X_test)\n",
    "print('[1]','rfc=')\n",
    "print(confusion_matrix(y_test,predicted,[0,1]))\n",
    "print()"
   ]
  },
  {
   "cell_type": "code",
   "execution_count": 17,
   "metadata": {},
   "outputs": [
    {
     "name": "stdout",
     "output_type": "stream",
     "text": [
      "Result for RFC= 0.9996396396396396\n"
     ]
    },
    {
     "data": {
      "image/png": "[encoded data removed]",
      "text/plain": [
       "<matplotlib.figure.Figure at 0x150a8601080>"
      ]
     },
     "metadata": {},
     "output_type": "display_data"
    }
   ],
   "source": [
    "# Nemodare ROC\n",
    "from sklearn.metrics import roc_curve\n",
    "from sklearn.metrics import roc_auc_score\n",
    "predicted_pred=rfc.predict_proba(X_test)[ :,1]\n",
    "fpr,tpr,thresholds=roc_curve(y_test,predicted_pred)\n",
    "plt.subplot(211)\n",
    "plt.plot([0,1],[0,1],'k--',label='RFC',color='b')\n",
    "plt.plot(fpr,tpr , marker='*')\n",
    "plt.xlabel(\"FPR\")\n",
    "plt.ylabel(\"TPR\")\n",
    "print('Result for RFC=',roc_auc_score(y_test,predicted_pred))\n",
    "plt.title('ROC=RFC')\n",
    "plt.xticks()\n",
    "plt.yticks()\n",
    "plt.legend(loc='lower right')\n",
    "plt.show()"
   ]
  },
  {
   "cell_type": "code",
   "execution_count": 18,
   "metadata": {},
   "outputs": [
    {
     "data": {
      "text/plain": [
       "KNeighborsClassifier(algorithm='auto', leaf_size=297, metric='minkowski',\n",
       "           metric_params=None, n_jobs=1, n_neighbors=6, p=4,\n",
       "           weights='uniform')"
      ]
     },
     "execution_count": 18,
     "metadata": {},
     "output_type": "execute_result"
    }
   ],
   "source": [
    "#kNN (k- Nearest Neighbors)\n",
    "from sklearn.neighbors import KNeighborsClassifier\n",
    "# Create KNeighbors classifier object model \n",
    "KNeighborsClassifier(algorithm ='ball_tree',n_neighbors=6) # default value for n_neighbors is 5\n",
    "knn=KNeighborsClassifier(n_neighbors=6,p=4,leaf_size=297)\n",
    "knn.fit(X_train,y_train)"
   ]
  },
  {
   "cell_type": "code",
   "execution_count": 19,
   "metadata": {},
   "outputs": [
    {
     "data": {
      "text/plain": [
       "MLPClassifier(activation='relu', alpha=0.01, batch_size='auto', beta_1=0.9,\n",
       "       beta_2=0.999, early_stopping=False, epsilon=1e-08,\n",
       "       hidden_layer_sizes=(50,), learning_rate='constant',\n",
       "       learning_rate_init=0.001, max_iter=200, momentum=0.9,\n",
       "       nesterovs_momentum=True, power_t=0.5, random_state=None,\n",
       "       shuffle=False, solver='adam', tol=0.0001, validation_fraction=0.9,\n",
       "       verbose=False, warm_start=False)"
      ]
     },
     "execution_count": 19,
     "metadata": {},
     "output_type": "execute_result"
    }
   ],
   "source": [
    "from sklearn.neural_network import MLPClassifier\n",
    "MLP=MLPClassifier(alpha=0.01,hidden_layer_sizes=(50,),validation_fraction=0.9,shuffle=False)\n",
    "MLP.fit(X,y)"
   ]
  },
  {
   "cell_type": "code",
   "execution_count": 20,
   "metadata": {},
   "outputs": [
    {
     "data": {
      "text/plain": [
       "SVC(C=1.0, cache_size=100, class_weight=None, coef0=0.0,\n",
       "  decision_function_shape='ovr', degree=3, gamma='auto', kernel='rbf',\n",
       "  max_iter=-1, probability=True, random_state=None, shrinking=True,\n",
       "  tol=0.001, verbose=False)"
      ]
     },
     "execution_count": 20,
     "metadata": {},
     "output_type": "execute_result"
    }
   ],
   "source": [
    "from sklearn import svm\n",
    "# there is various option associated with it, this is simple for classification. You can refer link, for mo# re detail.\n",
    "SVM=svm.SVC(kernel='rbf', probability=True, cache_size=100)\n",
    "\n",
    "SVM.fit(X_train,y_train)"
   ]
  },
  {
   "cell_type": "code",
   "execution_count": 21,
   "metadata": {},
   "outputs": [
    {
     "data": {
      "text/plain": [
       "GaussianNB(priors=None)"
      ]
     },
     "execution_count": 21,
     "metadata": {},
     "output_type": "execute_result"
    }
   ],
   "source": [
    "from sklearn.naive_bayes import GaussianNB\n",
    "# Create SVM classification object model = GaussianNB() # there is other distribution for multinomial classes like Bernoulli Naive Bayes, Refer link\n",
    "GNB=GaussianNB()\n",
    "GNB.fit(X_train,y_train)"
   ]
  },
  {
   "cell_type": "code",
   "execution_count": 22,
   "metadata": {},
   "outputs": [
    {
     "data": {
      "text/plain": [
       "DecisionTreeClassifier(class_weight=None, criterion='gini', max_depth=None,\n",
       "            max_features=None, max_leaf_nodes=None,\n",
       "            min_impurity_decrease=0.0, min_impurity_split=None,\n",
       "            min_samples_leaf=1, min_samples_split=2,\n",
       "            min_weight_fraction_leaf=0.0, presort=False, random_state=60,\n",
       "            splitter='best')"
      ]
     },
     "execution_count": 22,
     "metadata": {},
     "output_type": "execute_result"
    }
   ],
   "source": [
    "from sklearn.tree import DecisionTreeClassifier\n",
    "from sklearn import tree\n",
    "#Assumed you have, X (predictor) and Y (target) for training data set and x_test(predictor) of test_dataset\n",
    "# Create tree object \n",
    "DTree=tree.DecisionTreeClassifier(criterion='gini',random_state=60)\n",
    "DTree.fit(X,y)"
   ]
  },
  {
   "cell_type": "code",
   "execution_count": 23,
   "metadata": {},
   "outputs": [
    {
     "name": "stdout",
     "output_type": "stream",
     "text": [
      "RFC For tset= 0.9865771812080537\n",
      "RFC For train= 0.9932432432432432\n",
      "\n",
      " KNN For tset= 0.5838926174496645\n",
      "KNN For train= 0.7297297297297297\n",
      "\n",
      " MLP For Train= 0.581081081081081\n",
      "MLP For Test= 0.4966442953020134\n",
      "\n",
      " TREE For Train= 1.0\n",
      "TREE For Test= 1.0\n",
      "\n",
      " GaussianNB For Train= 0.8445945945945946\n",
      "GaussianNB For Test= 0.7986577181208053\n",
      "\n",
      " SVM For Train= 1.0\n",
      "SVM For Test= 0.4966442953020134\n"
     ]
    }
   ],
   "source": [
    "print('RFC For tset=',rfc.score(X_test,y_test))\n",
    "print('RFC For train=',rfc.score(X_train,y_train))\n",
    "\n",
    "print('\\n','KNN For tset=',knn.score(X_test,y_test))\n",
    "print('KNN For train=',knn.score(X_train,y_train))\n",
    "\n",
    "print('\\n','MLP For Train=',MLP.score(X_train,y_train))\n",
    "print('MLP For Test=',MLP.score(X_test,y_test))\n",
    "\n",
    "print('\\n','TREE For Train=',DTree.score(X_train,y_train))\n",
    "print('TREE For Test=',DTree.score(X_test,y_test))\n",
    "\n",
    "\n",
    "print('\\n','GaussianNB For Train=',GNB.score(X_train,y_train))\n",
    "print('GaussianNB For Test=',GNB.score(X_test,y_test))\n",
    "    \n",
    "print('\\n','SVM For Train=',SVM.score(X_train,y_train))\n",
    "print('SVM For Test=',SVM.score(X_test,y_test))\n",
    "    "
   ]
  },
  {
   "cell_type": "code",
   "execution_count": 24,
   "metadata": {},
   "outputs": [
    {
     "name": "stderr",
     "output_type": "stream",
     "text": [
      "C:\\Users\\Windows 10\\AppData\\Roaming\\Python\\Python36\\site-packages\\matplotlib\\axes\\_axes.py:545: UserWarning: No labelled objects found. Use label='...' kwarg on individual plots.\n",
      "  warnings.warn(\"No labelled objects found. \"\n"
     ]
    },
    {
     "data": {
      "image/png": "[encoded data removed]",
      "text/plain": [
       "<matplotlib.figure.Figure at 0x150a66c1cf8>"
      ]
     },
     "metadata": {},
     "output_type": "display_data"
    }
   ],
   "source": [
    "%matplotlib inline\n",
    "import matplotlib.pyplot as plt\n",
    "python_course_green = \"#476042\"\n",
    "plt.figure(figsize=(12, 10))\n",
    "plt.subplot(221) # equivalent to: plt.subplot(2, 2, 1)\n",
    "\n",
    "Test=[0.82,0.70,0.41,0.88,0.79,0.64]\n",
    "labels=['RFC','Knn','MLP','DTree','GNB','SVM']\n",
    "xs=[i for i,_ in enumerate(labels)]\n",
    "plt.bar(xs,Test)\n",
    "plt.xticks(xs,labels)\n",
    "plt.title('Tset Data')\n",
    "plt.xlabel('Algoritm ML')\n",
    "plt.ylabel('Accuracy')\n",
    "plt.legend(loc='lower right')\n",
    "\n",
    "\n",
    "\n",
    "plt.subplot(222)\n",
    "\n",
    "\n",
    "Train=[0.84,0.72,0.51,0.88,0.84,0.70]\n",
    "labels=['RFC','Knn','MLP','DTree','GNB','SVM']\n",
    "xs=[i for i,_ in enumerate(labels)]\n",
    "plt.bar(xs,Train)\n",
    "plt.xticks(xs,labels)\n",
    "plt.title('Train Data')\n",
    "plt.xlabel('Algoritm ML')\n",
    "plt.ylabel('Accuracy')\n",
    "plt.legend(loc='lower right')\n",
    "\n",
    "\n",
    "\n",
    "plt.plot()\n",
    "plt.show()"
   ]
  },
  {
   "cell_type": "code",
   "execution_count": null,
   "metadata": {},
   "outputs": [],
   "source": []
  },
  {
   "cell_type": "code",
   "execution_count": 25,
   "metadata": {},
   "outputs": [
    {
     "name": "stdout",
     "output_type": "stream",
     "text": [
      "[1] scores for RFC= 0.7642105263157895\n",
      "[2] scores for Knn= 0.6459649122807019\n",
      "[3] scores for MLP= 0.4975438596491228\n",
      "[5] scores for DTree= 0.7203508771929824\n",
      "[6] scores for GNB= 0.8073684210526315\n",
      "[8] scores for SVM= 0.5445614035087718\n"
     ]
    }
   ],
   "source": [
    "from sklearn.model_selection import cross_val_score\n",
    "from sklearn import model_selection\n",
    "kfold = model_selection.KFold(n_splits=15, random_state=True)\n",
    "    \n",
    "scores_RFC= cross_val_score(rfc, X, y,cv=kfold)\n",
    "print('[1]','scores for RFC=',scores_RFC.mean())\n",
    "    \n",
    "scores_knn= cross_val_score(knn, X, y,cv=kfold)\n",
    "print('[2]','scores for Knn=',scores_knn.mean())\n",
    "\n",
    "scores_MLP= cross_val_score(MLP, X, y,cv=kfold)\n",
    "print('[3]','scores for MLP=',scores_MLP.mean())\n",
    "scores_DTree= cross_val_score(DTree, X, y,cv=kfold)\n",
    "print('[5]','scores for DTree=',scores_DTree.mean())\n",
    "\n",
    "scores_GNB= cross_val_score(GNB, X, y,cv=kfold)\n",
    "print('[6]','scores for GNB=',scores_GNB.mean())\n",
    "scores_SVM= cross_val_score(SVM, X, y,cv=kfold)\n",
    "print('[8]','scores for SVM=',scores_SVM.mean())"
   ]
  },
  {
   "cell_type": "code",
   "execution_count": 26,
   "metadata": {},
   "outputs": [
    {
     "name": "stderr",
     "output_type": "stream",
     "text": [
      "C:\\Users\\Windows 10\\AppData\\Roaming\\Python\\Python36\\site-packages\\matplotlib\\axes\\_axes.py:545: UserWarning: No labelled objects found. Use label='...' kwarg on individual plots.\n",
      "  warnings.warn(\"No labelled objects found. \"\n"
     ]
    },
    {
     "data": {
      "image/png": "[encoded data removed]",
      "text/plain": [
       "<matplotlib.figure.Figure at 0x150a8d85710>"
      ]
     },
     "metadata": {},
     "output_type": "display_data"
    }
   ],
   "source": [
    "import matplotlib.pyplot as plt\n",
    "#values=[scores_RFC.mean,scores_knn.mean,scores_MLP.mean,scores_ABC.mean,scores_DTree.mean,\n",
    "                        #scores_GNB.mean,scores_gbc.mean,scores_SVM.mean,scores_ETC.mean]\n",
    "\n",
    "Values=[78,64,56,72,80,54]\n",
    "\n",
    "labels=['RFC','Knn','MLP','DTree','GNB','SVM']\n",
    "xs=[i for i,_ in enumerate(labels)]\n",
    "plt.bar(xs,Values)\n",
    "plt.xticks(xs,labels)\n",
    "plt.title('K-Fold Cross_Vlidation')\n",
    "plt.xlabel('Algoritm ML')\n",
    "plt.ylabel('Accuracy')\n",
    "plt.legend(loc='lower right')\n",
    "plt.show()"
   ]
  },
  {
   "cell_type": "code",
   "execution_count": 27,
   "metadata": {},
   "outputs": [
    {
     "name": "stdout",
     "output_type": "stream",
     "text": [
      "[1] RFC= [1]\n",
      "[2] MLP= [1]\n",
      "[3] knn= [1]\n",
      "[5] Tree= [1]\n",
      "[6] GaussianNB= [1]\n",
      "[8] SVM= [0]\n",
      "\n",
      " info=\n",
      "0==عدم مبتلا به بیماری قلبی And 1== مبتلا به بیماری قلبی\n",
      "[('RandomForestClassifier', [1]), ('KNeighborsClassifier', [1]), ('MLPClassifier', [1]), ('tree', [1]), ('GaussianNB', [1]), ('svm', [0])]\n"
     ]
    }
   ],
   "source": [
    "Diabetic_prediction_rfc=rfc.predict([[23 , 34 , 12 , 124 , 343 , 23 , 34 , 23,42,124,45,12]]) \n",
    "lookup_Diabetic_name_rfc=[Diabetic_prediction_rfc[0]]\n",
    "print('[1]','RFC=',lookup_Diabetic_name_rfc)\n",
    "    \n",
    "Diabetic_prediction_MLP=MLP.predict([[23 , 34 , 12 , 124 , 343 , 23 , 34 , 23,42,124,45,12]])\n",
    "lookup_Diabetic_name_MLP=[Diabetic_prediction_MLP[0]]\n",
    "print('[2]','MLP=',lookup_Diabetic_name_MLP)\n",
    "    \n",
    "Diabetic_prediction_knn=knn.predict([[23 , 34 , 12 , 124 , 343 , 23 , 34 , 23,42,124,45,12]])\n",
    "lookup_Diabetic_name_knn=[Diabetic_prediction_MLP[0]]\n",
    "print('[3]','knn=',lookup_Diabetic_name_knn)\n",
    "    \n",
    "    \n",
    "\n",
    "Diabetic_prediction_TREE=DTree.predict([[23 , 34 , 12 , 124 , 343 , 23 , 34 , 23,42,124,45,12]])\n",
    "lookup_Diabetic_name_TREE=[Diabetic_prediction_TREE[0]]\n",
    "print('[5]','Tree=',lookup_Diabetic_name_TREE)\n",
    "    \n",
    "Diabetic_prediction_GNB=GNB.predict([[23 , 34 , 12 , 124 , 343 , 23 , 34 , 23,42,124,45,12]])\n",
    "lookup_Diabetic_name_GNB=[Diabetic_prediction_GNB[0]]\n",
    "print('[6]','GaussianNB=',lookup_Diabetic_name_GNB)\n",
    "    \n",
    "\n",
    "    \n",
    "    \n",
    "Diabetic_prediction_SVM=SVM.predict([[23 , 34 , 12 , 124 , 343 , 23 , 34 , 23,42,124,45,12]])\n",
    "lookup_Diabetic_name_SVM=[Diabetic_prediction_SVM[0]]\n",
    "print('[8]','SVM=',lookup_Diabetic_name_SVM)\n",
    "    \n",
    "    \n",
    "print('\\n','info=')\n",
    "    #valuelist=[lookup_Diabetic_name_rfc,lookup_Diabetic_name_MLP,lookup_Diabetic_name_knn,lookup_Diabetic_name_ABC,lookup_Diabetic_name_TREE,\n",
    "               #lookup_Diabetic_name_GNB,lookup_Diabetic_name_GBC,lookup_Diabetic_name_SVM,lookup_Diabetic_name_ETC]\n",
    "    #print(valuelist)\n",
    "print('0==عدم مبتلا به بیماری قلبی And 1== مبتلا به بیماری قلبی')\n",
    "    \n",
    "estimators=[]\n",
    "estimators.append(('RandomForestClassifier', lookup_Diabetic_name_rfc))\n",
    "estimators.append(('KNeighborsClassifier', lookup_Diabetic_name_MLP))\n",
    "estimators.append(('MLPClassifier', lookup_Diabetic_name_knn))\n",
    "estimators.append(('tree', lookup_Diabetic_name_TREE))\n",
    "estimators.append(('GaussianNB', lookup_Diabetic_name_GNB))\n",
    "estimators.append(('svm', lookup_Diabetic_name_SVM))\n",
    "\n",
    "print(estimators)"
   ]
  },
  {
   "cell_type": "code",
   "execution_count": 28,
   "metadata": {},
   "outputs": [
    {
     "name": "stdout",
     "output_type": "stream",
     "text": [
      "[1] accuracy for RandomForestClassifier =0.99\n",
      "[2] accuracy for KNeighborsClassifier =0.58\n",
      "[3] accuracy for MLPClassifier =0.50\n",
      "[5] accuracy for tree =1.00\n",
      "[6] accuracy for GaussianNB =0.80\n",
      "[8] accuracy for Support Vector Machine =0.50\n",
      "\n",
      "\n",
      "info= ['RFC=', 0.9865771812080537, 'KNN=', 0.5838926174496645, 'MLP=', 0.4966442953020134, 'Dtree=', 1.0, 'GNB=', 0.7986577181208053, 'SVM=', 0.4966442953020134]\n"
     ]
    }
   ],
   "source": [
    "from sklearn.cross_validation import KFold\n",
    "from sklearn.model_selection import cross_val_score\n",
    "from sklearn.discriminant_analysis import LinearDiscriminantAnalysis\n",
    "from matplotlib import pyplot\n",
    "\n",
    "import numpy as np\n",
    "predicted=rfc.predict(X_test)\n",
    "accurace_rfc=np.mean(predicted==y_test)\n",
    "print('[1]','accuracy for RandomForestClassifier =%.2f'%accurace_rfc)\n",
    "    \n",
    "predicted=knn.predict(X_test)\n",
    "accurace_knn=np.mean(predicted==y_test)\n",
    "print('[2]','accuracy for KNeighborsClassifier =%.2f'%accurace_knn)\n",
    "    \n",
    "    \n",
    "predicted=MLP.predict(X_test)\n",
    "accurace_MLP=np.mean(predicted==y_test)\n",
    "print('[3]','accuracy for MLPClassifier =%.2f'%accurace_MLP)\n",
    "    \n",
    "\n",
    "    \n",
    "    \n",
    "predicted=DTree.predict(X_test)\n",
    "accurace_Dtree=np.mean(predicted==y_test)\n",
    "print('[5]','accuracy for tree =%.2f'%accurace_Dtree)\n",
    "    \n",
    "    \n",
    "predicted=GNB.predict(X_test)\n",
    "accurace_GNB=np.mean(predicted==y_test)\n",
    "print('[6]','accuracy for GaussianNB =%.2f'%accurace_GNB)\n",
    "    \n",
    "    \n",
    "\n",
    "    \n",
    "predicted=SVM.predict(X_test)\n",
    "accurace_SVM=np.mean(predicted==y_test)\n",
    "print('[8]','accuracy for Support Vector Machine =%.2f'%accurace_SVM)\n",
    "    \n",
    "    \n",
    "    #لطفا یک لیست تعریف کنید و دقت هرالگوریتم را داخل لیست بگذارید تا براساس وزن گیری مشخص کنید کدوم الگوریتم نتجیه بهتری دارد...\n",
    "print('\\n')\n",
    "valuelist2=['RFC=',accurace_rfc,'KNN=',accurace_knn,'MLP=',accurace_MLP,'Dtree=',accurace_Dtree,\n",
    "'GNB=',accurace_GNB,'SVM=',accurace_SVM]\n",
    "print('info=',valuelist2)\n",
    "   "
   ]
  },
  {
   "cell_type": "code",
   "execution_count": 39,
   "metadata": {},
   "outputs": [
    {
     "name": "stderr",
     "output_type": "stream",
     "text": [
      "C:\\Users\\Windows 10\\AppData\\Roaming\\Python\\Python36\\site-packages\\matplotlib\\axes\\_axes.py:545: UserWarning: No labelled objects found. Use label='...' kwarg on individual plots.\n",
      "  warnings.warn(\"No labelled objects found. \"\n"
     ]
    },
    {
     "data": {
      "image/png": "[encoded data removed]",
      "text/plain": [
       "<matplotlib.figure.Figure at 0x150a9546be0>"
      ]
     },
     "metadata": {},
     "output_type": "display_data"
    }
   ],
   "source": [
    "import matplotlib.pyplot as plt\n",
    "#values=[scores_RFC.mean,scores_knn.mean,scores_MLP.mean,scores_ABC.mean,scores_DTree.mean,\n",
    "                        #scores_GNB.mean,scores_gbc.mean,scores_SVM.mean,scores_ETC.mean]\n",
    "\n",
    "Values1=[0.89,0.85,0.66,0.93,0.80,0.63]\n",
    "\n",
    "labels1=['RFC','Knn','MLP','DTree','GNB','SVM']\n",
    "xs=[i for i,_ in enumerate(labels1)]\n",
    "plt.bar(xs,Values1)\n",
    "plt.xticks(xs,labels1)\n",
    "plt.title('Accuracy ')\n",
    "plt.xlabel('Algoritm ML')\n",
    "plt.ylabel('Accuracy')\n",
    "plt.legend(loc='lower right')\n",
    "plt.show()"
   ]
  },
  {
   "cell_type": "code",
   "execution_count": 30,
   "metadata": {},
   "outputs": [
    {
     "name": "stdout",
     "output_type": "stream",
     "text": [
      "Accuracy: 0.78 (+/- 0.03) [RandomForestClassifier]\n",
      "Accuracy: 0.62 (+/- 0.04) [KNeighborsClassifier]\n",
      "Accuracy: 0.63 (+/- 0.08) [MLPClassifier]\n",
      "Accuracy: 0.72 (+/- 0.05) [tree]\n",
      "Accuracy: 0.81 (+/- 0.07) [GaussianNB]\n",
      "Accuracy: 0.54 (+/- 0.00) [svm]\n"
     ]
    },
    {
     "name": "stderr",
     "output_type": "stream",
     "text": [
      "C:\\ProgramData\\Anaconda3\\lib\\site-packages\\sklearn\\preprocessing\\label.py:151: DeprecationWarning: The truth value of an empty array is ambiguous. Returning False, but in future this will result in an error. Use `array.size > 0` to check that an array is not empty.\n",
      "  if diff:\n",
      "C:\\ProgramData\\Anaconda3\\lib\\site-packages\\sklearn\\preprocessing\\label.py:151: DeprecationWarning: The truth value of an empty array is ambiguous. Returning False, but in future this will result in an error. Use `array.size > 0` to check that an array is not empty.\n",
      "  if diff:\n",
      "C:\\ProgramData\\Anaconda3\\lib\\site-packages\\sklearn\\preprocessing\\label.py:151: DeprecationWarning: The truth value of an empty array is ambiguous. Returning False, but in future this will result in an error. Use `array.size > 0` to check that an array is not empty.\n",
      "  if diff:\n",
      "C:\\ProgramData\\Anaconda3\\lib\\site-packages\\sklearn\\preprocessing\\label.py:151: DeprecationWarning: The truth value of an empty array is ambiguous. Returning False, but in future this will result in an error. Use `array.size > 0` to check that an array is not empty.\n",
      "  if diff:\n",
      "C:\\ProgramData\\Anaconda3\\lib\\site-packages\\sklearn\\preprocessing\\label.py:151: DeprecationWarning: The truth value of an empty array is ambiguous. Returning False, but in future this will result in an error. Use `array.size > 0` to check that an array is not empty.\n",
      "  if diff:\n"
     ]
    },
    {
     "name": "stdout",
     "output_type": "stream",
     "text": [
      "Accuracy: 0.72 (+/- 0.06) [Ensemble]\n",
      "\n",
      " Voting Ensemble\n"
     ]
    },
    {
     "name": "stderr",
     "output_type": "stream",
     "text": [
      "C:\\ProgramData\\Anaconda3\\lib\\site-packages\\sklearn\\preprocessing\\label.py:151: DeprecationWarning: The truth value of an empty array is ambiguous. Returning False, but in future this will result in an error. Use `array.size > 0` to check that an array is not empty.\n",
      "  if diff:\n",
      "C:\\ProgramData\\Anaconda3\\lib\\site-packages\\sklearn\\preprocessing\\label.py:151: DeprecationWarning: The truth value of an empty array is ambiguous. Returning False, but in future this will result in an error. Use `array.size > 0` to check that an array is not empty.\n",
      "  if diff:\n",
      "C:\\ProgramData\\Anaconda3\\lib\\site-packages\\sklearn\\preprocessing\\label.py:151: DeprecationWarning: The truth value of an empty array is ambiguous. Returning False, but in future this will result in an error. Use `array.size > 0` to check that an array is not empty.\n",
      "  if diff:\n",
      "C:\\ProgramData\\Anaconda3\\lib\\site-packages\\sklearn\\preprocessing\\label.py:151: DeprecationWarning: The truth value of an empty array is ambiguous. Returning False, but in future this will result in an error. Use `array.size > 0` to check that an array is not empty.\n",
      "  if diff:\n",
      "C:\\ProgramData\\Anaconda3\\lib\\site-packages\\sklearn\\preprocessing\\label.py:151: DeprecationWarning: The truth value of an empty array is ambiguous. Returning False, but in future this will result in an error. Use `array.size > 0` to check that an array is not empty.\n",
      "  if diff:\n",
      "C:\\ProgramData\\Anaconda3\\lib\\site-packages\\sklearn\\preprocessing\\label.py:151: DeprecationWarning: The truth value of an empty array is ambiguous. Returning False, but in future this will result in an error. Use `array.size > 0` to check that an array is not empty.\n",
      "  if diff:\n",
      "C:\\ProgramData\\Anaconda3\\lib\\site-packages\\sklearn\\preprocessing\\label.py:151: DeprecationWarning: The truth value of an empty array is ambiguous. Returning False, but in future this will result in an error. Use `array.size > 0` to check that an array is not empty.\n",
      "  if diff:\n",
      "C:\\ProgramData\\Anaconda3\\lib\\site-packages\\sklearn\\preprocessing\\label.py:151: DeprecationWarning: The truth value of an empty array is ambiguous. Returning False, but in future this will result in an error. Use `array.size > 0` to check that an array is not empty.\n",
      "  if diff:\n"
     ]
    },
    {
     "name": "stdout",
     "output_type": "stream",
     "text": [
      "0.7536781609195402\n"
     ]
    },
    {
     "name": "stderr",
     "output_type": "stream",
     "text": [
      "C:\\ProgramData\\Anaconda3\\lib\\site-packages\\sklearn\\preprocessing\\label.py:151: DeprecationWarning: The truth value of an empty array is ambiguous. Returning False, but in future this will result in an error. Use `array.size > 0` to check that an array is not empty.\n",
      "  if diff:\n",
      "C:\\ProgramData\\Anaconda3\\lib\\site-packages\\sklearn\\preprocessing\\label.py:151: DeprecationWarning: The truth value of an empty array is ambiguous. Returning False, but in future this will result in an error. Use `array.size > 0` to check that an array is not empty.\n",
      "  if diff:\n"
     ]
    }
   ],
   "source": [
    "#رای گیری اکثریت به منظور یافتن بهترین نتیجه\n",
    "import pandas\n",
    "from sklearn.ensemble import RandomForestClassifier\n",
    "from sklearn.neighbors import KNeighborsClassifier\n",
    "from sklearn.neural_network import MLPClassifier\n",
    "from sklearn import tree\n",
    "from sklearn.naive_bayes import GaussianNB\n",
    "from sklearn import svm\n",
    "\n",
    "    \n",
    "from sklearn import model_selection\n",
    "from sklearn.ensemble import VotingClassifier\n",
    "from sklearn.model_selection import cross_val_score\n",
    "from sklearn import model_selection\n",
    "kfold = model_selection.KFold(n_splits=10, random_state=True)\n",
    "\n",
    "    \n",
    "    \n",
    "estimators = []\n",
    "clf1 = RandomForestClassifier(random_state=1)\n",
    "clf2 = KNeighborsClassifier(n_neighbors=2,p=1,leaf_size=738)\n",
    "clf3 = MLPClassifier(alpha=0.01,hidden_layer_sizes=(100,),validation_fraction=0.9,shuffle=False)\n",
    "clf4 = tree.DecisionTreeClassifier(criterion='gini',random_state=60)\n",
    "clf5 = GaussianNB()\n",
    "clf6 = svm.SVC()\n",
    "\n",
    "\n",
    "eclf = VotingClassifier(estimators=[('RF', clf1), ('KNN', clf2), ('MLP', clf3), ('tree', clf4)\n",
    "                                   , ('GNB', clf5), ('SVM', clf6)], voting='hard')\n",
    "for clf, label in zip([clf1, clf2, clf3, clf4, clf5, clf6\n",
    "        ,eclf], ['RandomForestClassifier', 'KNeighborsClassifier', 'MLPClassifier','tree',\n",
    "        'GaussianNB', 'svm', 'Ensemble']):\n",
    "    \n",
    "    scores = cross_val_score(clf, X, y, cv=5, scoring='accuracy')\n",
    "    print(\"Accuracy: %0.2f (+/- %0.2f) [%s]\" % (scores.mean(), scores.std(), label))\n",
    "\n",
    "    \n",
    "print('\\n','Voting Ensemble')\n",
    "estimators.append(('RandomForestClassifier', clf1))\n",
    "estimators.append(('KNeighborsClassifier', clf2))\n",
    "estimators.append(('MLPClassifier', clf3))\n",
    "\n",
    "estimators.append(('tree', clf4))\n",
    "estimators.append(('GaussianNB', clf5))\n",
    "\n",
    "estimators.append(('svm', clf6))\n",
    "\n",
    "\n",
    "# create the ensemble model\n",
    "ensemble = VotingClassifier(estimators)\n",
    "results = model_selection.cross_val_score(ensemble, X, y, cv=kfold)\n",
    "print(results.mean())\n",
    "    \n",
    "\n",
    "#Voting_Classfier()"
   ]
  },
  {
   "cell_type": "code",
   "execution_count": 31,
   "metadata": {},
   "outputs": [
    {
     "name": "stderr",
     "output_type": "stream",
     "text": [
      "C:\\Users\\Windows 10\\AppData\\Roaming\\Python\\Python36\\site-packages\\matplotlib\\axes\\_axes.py:545: UserWarning: No labelled objects found. Use label='...' kwarg on individual plots.\n",
      "  warnings.warn(\"No labelled objects found. \"\n"
     ]
    },
    {
     "data": {
      "image/png": "[encoded data removed]",
      "text/plain": [
       "<matplotlib.figure.Figure at 0x150a86d52b0>"
      ]
     },
     "metadata": {},
     "output_type": "display_data"
    }
   ],
   "source": [
    "%matplotlib inline\n",
    "import matplotlib.pyplot as plt\n",
    "python_course_green = \"#476042\"\n",
    "plt.figure(figsize=(34, 14))\n",
    "plt.subplot(221) # equivalent to: plt.subplot(2, 2, 1)\n",
    "\n",
    "Test=[0.78,0.62,0.61,0.72,0.81,0.54,0.71,0.73]\n",
    "labels=['RFC','Knn','MLP','DTree','GNB','SVM','Ensemble','Voting Ensemble']\n",
    "xs=[i for i,_ in enumerate(labels)]\n",
    "plt.bar(xs,Test)\n",
    "plt.xticks(xs,labels)\n",
    "plt.title('scores.mean')\n",
    "plt.xlabel('Algoritm ML')\n",
    "plt.ylabel('Accuracy')\n",
    "plt.legend(loc='lower right')\n",
    "\n",
    "\n",
    "plt.plot()\n",
    "plt.show()\n"
   ]
  },
  {
   "cell_type": "code",
   "execution_count": 32,
   "metadata": {},
   "outputs": [
    {
     "name": "stdout",
     "output_type": "stream",
     "text": [
      "[1] rfc=\n",
      "[[74  0]\n",
      " [ 2 73]]\n",
      "\n",
      "[2] knn=\n",
      "[[60 14]\n",
      " [48 27]]\n",
      "\n",
      "[3] MLP=\n",
      "[[74  0]\n",
      " [75  0]]\n",
      "\n",
      "[5] DTree=\n",
      "[[74  0]\n",
      " [ 0 75]]\n",
      "\n",
      "[6] GNB=\n",
      "[[64 10]\n",
      " [20 55]]\n",
      "\n",
      "[8] SVM=\n",
      "[[74  0]\n",
      " [75  0]]\n",
      "\n"
     ]
    }
   ],
   "source": [
    "#ماتریس در هم ریختگی\n",
    "#Confusion Matrix\n",
    "from sklearn.metrics import classification_report,confusion_matrix\n",
    "predicted=rfc.predict(X_test)\n",
    "print('[1]','rfc=')\n",
    "print(confusion_matrix(y_test,predicted,[0,1]))\n",
    "print()\n",
    "\n",
    "predicted=knn.predict(X_test)\n",
    "print('[2]','knn=')\n",
    "print(confusion_matrix(y_test,predicted,[0,1]))\n",
    "print()\n",
    "\n",
    "\n",
    "predicted=MLP.predict(X_test)\n",
    "print('[3]','MLP=')\n",
    "print(confusion_matrix(y_test,predicted,[0,1]))\n",
    "print()\n",
    "\n",
    "\n",
    "\n",
    "predicted=DTree.predict(X_test)\n",
    "print('[5]','DTree=')\n",
    "print(confusion_matrix(y_test,predicted,[0,1]))\n",
    "print()\n",
    "\n",
    "\n",
    "predicted=GNB.predict(X_test)\n",
    "print('[6]','GNB=')\n",
    "print(confusion_matrix(y_test,predicted,[0,1]))\n",
    "print()\n",
    "\n",
    "\n",
    "\n",
    "\n",
    "\n",
    "predicted=SVM.predict(X_test)\n",
    "print('[8]','SVM=')\n",
    "print(confusion_matrix(y_test,predicted,[0,1]))\n",
    "print()\n",
    "\n",
    "\n",
    "\n",
    "\n",
    "\n",
    "\n",
    "\n",
    "#print(classification_report,y_test,predicted)"
   ]
  },
  {
   "cell_type": "code",
   "execution_count": 33,
   "metadata": {},
   "outputs": [
    {
     "name": "stdout",
     "output_type": "stream",
     "text": [
      "Result for RFC= 0.9996396396396396\n"
     ]
    },
    {
     "data": {
      "image/png": "[encoded data removed]",
      "text/plain": [
       "<matplotlib.figure.Figure at 0x150a94e0fd0>"
      ]
     },
     "metadata": {},
     "output_type": "display_data"
    },
    {
     "name": "stdout",
     "output_type": "stream",
     "text": [
      "\n"
     ]
    },
    {
     "data": {
      "image/png": "[encoded data removed]",
      "text/plain": [
       "<matplotlib.figure.Figure at 0x150a85b5e10>"
      ]
     },
     "metadata": {},
     "output_type": "display_data"
    },
    {
     "name": "stdout",
     "output_type": "stream",
     "text": [
      "Result for KNN= 0.6663063063063063\n",
      "\n"
     ]
    },
    {
     "data": {
      "image/png": "[encoded data removed]",
      "text/plain": [
       "<matplotlib.figure.Figure at 0x150a8a56b70>"
      ]
     },
     "metadata": {},
     "output_type": "display_data"
    },
    {
     "name": "stdout",
     "output_type": "stream",
     "text": [
      "Result for MLP= 0.6522522522522523\n",
      "\n"
     ]
    },
    {
     "data": {
      "image/png": "[encoded data removed]",
      "text/plain": [
       "<matplotlib.figure.Figure at 0x150a8c1de80>"
      ]
     },
     "metadata": {},
     "output_type": "display_data"
    },
    {
     "name": "stdout",
     "output_type": "stream",
     "text": [
      "Result for Dtree= 1.0\n",
      "\n"
     ]
    },
    {
     "data": {
      "image/png": "[encoded data removed]",
      "text/plain": [
       "<matplotlib.figure.Figure at 0x150a94e96a0>"
      ]
     },
     "metadata": {},
     "output_type": "display_data"
    },
    {
     "name": "stdout",
     "output_type": "stream",
     "text": [
      "Resultfor GNB= 0.8850450450450451\n",
      "\n"
     ]
    },
    {
     "data": {
      "image/png": "[encoded data removed]",
      "text/plain": [
       "<matplotlib.figure.Figure at 0x150a877a8d0>"
      ]
     },
     "metadata": {},
     "output_type": "display_data"
    },
    {
     "name": "stdout",
     "output_type": "stream",
     "text": [
      "Result for SVM= 0.4252252252252252\n"
     ]
    }
   ],
   "source": [
    "#نموار ROC\n",
    "# Nemodare ROC\n",
    "from sklearn.metrics import roc_curve\n",
    "from sklearn.metrics import roc_auc_score\n",
    "predicted_pred=rfc.predict_proba(X_test)[ :,1]\n",
    "fpr,tpr,thresholds=roc_curve(y_test,predicted_pred)\n",
    "plt.subplot(211)\n",
    "plt.plot([0,1],[0,1],'k--',label='RFC',color='b')\n",
    "plt.plot(fpr,tpr , marker='*')\n",
    "plt.xlabel(\"FPR\")\n",
    "plt.ylabel(\"TPR\")\n",
    "print('Result for RFC=',roc_auc_score(y_test,predicted_pred))\n",
    "plt.title('ROC=RFC')\n",
    "plt.xticks()\n",
    "plt.yticks()\n",
    "plt.legend(loc='lower right')\n",
    "plt.show()\n",
    "\n",
    "\n",
    "print()\n",
    "predicted_pred=knn.predict_proba(X_test)[ :,1]\n",
    "fpr,tpr,thresholds=roc_curve(y_test,predicted_pred)\n",
    "plt.subplot(211)\n",
    "plt.plot([0,1],[0,1],'k--',label='KNN',color='g')\n",
    "plt.plot(fpr,tpr, marker='d')\n",
    "plt.title('ROC=KNN')\n",
    "plt.xticks()\n",
    "plt.yticks()\n",
    "plt.legend(loc='lower right')\n",
    "plt.show()\n",
    "\n",
    "\n",
    "\n",
    "\n",
    "print('Result for KNN=',roc_auc_score(y_test,predicted_pred))\n",
    "\n",
    "\n",
    "print()\n",
    "predicted_pred=MLP.predict_proba(X_test)[ :,1]\n",
    "fpr,tpr,thresholds=roc_curve(y_test,predicted_pred)\n",
    "plt.subplot(211)\n",
    "plt.plot([0,1],[0,1],'k--',label='MLP',color='r')\n",
    "plt.plot(fpr,tpr, marker='^')\n",
    "plt.title('ROC=MLP')\n",
    "plt.xticks()\n",
    "plt.yticks()\n",
    "plt.legend(loc='lower right')\n",
    "plt.show()\n",
    "\n",
    "\n",
    "print('Result for MLP=',roc_auc_score(y_test,predicted_pred))\n",
    "\n",
    "\n",
    "\n",
    "\n",
    "\n",
    "\n",
    "print()\n",
    "predicted_pred=DTree.predict_proba(X_test)[ :,1]\n",
    "fpr,tpr,thresholds=roc_curve(y_test,predicted_pred)\n",
    "plt.subplot(211)\n",
    "plt.plot([0,1],[0,1],'k--',label='Dtree',color='m')\n",
    "plt.plot(fpr,tpr, marker='H')\n",
    "plt.title('ROC=Dtree')\n",
    "plt.xticks()\n",
    "plt.yticks()\n",
    "plt.legend(loc='lower right')\n",
    "plt.show()\n",
    "\n",
    "\n",
    "print('Result for Dtree=',roc_auc_score(y_test,predicted_pred))\n",
    "\n",
    "\n",
    "\n",
    "\n",
    "print()\n",
    "predicted_pred=GNB.predict_proba(X_test)[ :,1]\n",
    "fpr,tpr,thresholds=roc_curve(y_test,predicted_pred)\n",
    "plt.subplot(211)\n",
    "plt.plot([0,1],[0,1],'k--',label='GNB',color='y')\n",
    "plt.plot(fpr,tpr, marker='D')\n",
    "plt.title('ROC=GNB')\n",
    "plt.xticks()\n",
    "plt.yticks()\n",
    "plt.legend(loc='lower right')\n",
    "plt.show()\n",
    "\n",
    "\n",
    "\n",
    "print('Resultfor GNB=',roc_auc_score(y_test,predicted_pred))\n",
    "\n",
    "\n",
    "\n",
    "\n",
    "\n",
    "\n",
    "\n",
    "print()\n",
    "predicted_pred=SVM.predict_proba(X_test)[ :,1]\n",
    "fpr,tpr,thresholds=roc_curve(y_test,predicted_pred)\n",
    "plt.subplot(211)\n",
    "plt.plot([0,1],[0,1],'k--',label='SVM',color='w')\n",
    "plt.plot(fpr,tpr, marker='3')\n",
    "plt.title('ROC=SVM')\n",
    "plt.xticks()\n",
    "plt.yticks()\n",
    "plt.legend(loc='lower right')\n",
    "plt.show()\n",
    "\n",
    "\n",
    "print('Result for SVM=',roc_auc_score(y_test,predicted_pred))\n",
    "\n",
    "\n",
    "\n",
    "\n"
   ]
  },
  {
   "cell_type": "code",
   "execution_count": 34,
   "metadata": {},
   "outputs": [
    {
     "name": "stdout",
     "output_type": "stream",
     "text": [
      "--------------------------------------------------\n",
      "                 GridSearch Cross Validation\n",
      "KNN= 0.6430976430976431\n",
      "\n",
      "               Random Search Parameter tuning\n",
      "KNN= 0.6262626262626263\n",
      "--------------------------------------------------\n",
      "                 GridSearch Cross Validation\n",
      "RFC= 0.7777777777777778\n",
      "\n",
      "                Random Search Parameter tuning\n",
      "RFC= 0.7744107744107744\n",
      "--------------------------------------------------\n",
      "                 GridSearch Cross Validation\n",
      "MLP= 0.5252525252525253\n",
      "\n",
      "                Random Search Parameter tuning\n",
      "MLP= 0.47474747474747475\n",
      "--------------------------------------------------\n",
      "                 GridSearch Cross Validation\n",
      "DTree= 0.7171717171717171\n",
      "\n",
      "                Random Search Parameter tuning\n",
      "DTree= 0.696969696969697\n",
      "--------------------------------------------------\n",
      "                 GridSearch Cross Validation\n",
      "GNB= 0.8148148148148148\n",
      "\n",
      "                Random Search Parameter tuning\n",
      "GNB= 0.8013468013468014\n",
      "--------------------------------------------------\n",
      "                 GridSearch Cross Validation\n",
      "SVM= 0.5387205387205387\n",
      "\n",
      "                Random Search Parameter tuning\n",
      "SVM= 0.5387205387205387\n",
      "--------------------------------------------------\n"
     ]
    }
   ],
   "source": [
    "#GridSearch Cross Validation\n",
    "#Random Search Parameter tuning\n",
    "\n",
    "print('--------------------------------------------------')\n",
    "print('                ','GridSearch Cross Validation')\n",
    "from sklearn.model_selection import GridSearchCV\n",
    "\n",
    "param_grid={}\n",
    "#param_grid={'n_neigbors':np.arange(1,50)}\n",
    "knn_cv=GridSearchCV(knn,param_grid,cv=5)\n",
    "knn_cv.fit(X,y)\n",
    "print('KNN=',knn_cv.best_score_)\n",
    "#print(knn_cv.best_estimator_)\n",
    "#print(knn_cv.best_params_)\n",
    "\n",
    "\n",
    "print()\n",
    "#Random Search Parameter tuning\n",
    "print('              ','Random Search Parameter tuning')\n",
    "from scipy.stats import uniform\n",
    "from sklearn.model_selection import RandomizedSearchCV\n",
    "param_grid={}\n",
    "#param_grid={'n_neigbors':np.arange(1,50)}\n",
    "knn_RS=RandomizedSearchCV(knn,param_distributions=param_grid,n_iter=1,random_state=7)\n",
    "knn_RS.fit(X,y)\n",
    "print('KNN=',knn_RS.best_score_)\n",
    "#print(knn_RS.best_estimator_)\n",
    "print('--------------------------------------------------')\n",
    "rfc_cv=GridSearchCV(rfc,param_grid,cv=5)\n",
    "rfc_cv.fit(X,y)\n",
    "print('                ','GridSearch Cross Validation')\n",
    "print('RFC=',rfc_cv.best_score_)\n",
    "#print(rfc_cv.best_estimator_)\n",
    "print()\n",
    "print('               ','Random Search Parameter tuning')\n",
    "rfc_cv=RandomizedSearchCV(rfc,param_distributions=param_grid,n_iter=1,random_state=7)\n",
    "rfc_cv.fit(X,y)\n",
    "print('RFC=',rfc_cv.best_score_)\n",
    "#print(rfc_cv.best_estimator_)\n",
    "print('--------------------------------------------------')\n",
    "MLP_cv=GridSearchCV(MLP,param_grid,cv=5)\n",
    "MLP_cv.fit(X,y)\n",
    "print('                ','GridSearch Cross Validation')\n",
    "print('MLP=',MLP_cv.best_score_)\n",
    "#print(MLP_cv.best_estimator_)\n",
    "print()\n",
    "print('               ','Random Search Parameter tuning')\n",
    "MLP_cv=RandomizedSearchCV(MLP,param_distributions=param_grid,n_iter=1,random_state=7)\n",
    "MLP_cv.fit(X,y)\n",
    "print('MLP=',MLP_cv.best_score_)\n",
    "#print(MLP_cv.best_estimator_)\n",
    "print('--------------------------------------------------')\n",
    "\n",
    "DTree_cv=GridSearchCV(DTree,param_grid,cv=5)\n",
    "DTree_cv.fit(X,y)\n",
    "print('                ','GridSearch Cross Validation')\n",
    "print('DTree=',DTree_cv.best_score_)\n",
    "#print(DTree_cv.best_estimator_)\n",
    "print()\n",
    "print('               ','Random Search Parameter tuning')\n",
    "DTree_cv=RandomizedSearchCV(DTree,param_distributions=param_grid,n_iter=1,random_state=7)\n",
    "DTree_cv.fit(X,y)\n",
    "print('DTree=',DTree_cv.best_score_)\n",
    "#print(DTree_cv.best_estimator_)\n",
    "print('--------------------------------------------------')\n",
    "GNB_cv=GridSearchCV(GNB,param_grid,cv=5)\n",
    "GNB_cv.fit(X,y)\n",
    "print('                ','GridSearch Cross Validation')\n",
    "print('GNB=',GNB_cv.best_score_)\n",
    "#print(GNB_cv.best_estimator_)\n",
    "print()\n",
    "print('               ','Random Search Parameter tuning')\n",
    "GNB_cv=RandomizedSearchCV(GNB,param_distributions=param_grid,n_iter=1,random_state=7)\n",
    "GNB_cv.fit(X,y)\n",
    "print('GNB=',GNB_cv.best_score_)\n",
    "#print(GNB_cv.best_estimator_)\n",
    "print('--------------------------------------------------')\n",
    "\n",
    "SVM_cv=GridSearchCV(SVM,param_grid,cv=5)\n",
    "SVM_cv.fit(X,y)\n",
    "print('                ','GridSearch Cross Validation')\n",
    "print('SVM=',SVM_cv.best_score_)\n",
    "#print(SVM_cv.best_estimator_)\n",
    "print()\n",
    "print('               ','Random Search Parameter tuning')\n",
    "SVM_cv=RandomizedSearchCV(SVM,param_distributions=param_grid,n_iter=1,random_state=7)\n",
    "SVM_cv.fit(X,y)\n",
    "print('SVM=',SVM_cv.best_score_)\n",
    "#print(SVM_cv.best_estimator_)\n",
    "print('--------------------------------------------------')\n"
   ]
  },
  {
   "cell_type": "code",
   "execution_count": 35,
   "metadata": {
    "scrolled": true
   },
   "outputs": [
    {
     "name": "stderr",
     "output_type": "stream",
     "text": [
      "C:\\Users\\Windows 10\\AppData\\Roaming\\Python\\Python36\\site-packages\\matplotlib\\axes\\_axes.py:545: UserWarning: No labelled objects found. Use label='...' kwarg on individual plots.\n",
      "  warnings.warn(\"No labelled objects found. \"\n"
     ]
    },
    {
     "data": {
      "image/png": "[encoded data removed]",
      "text/plain": [
       "<matplotlib.figure.Figure at 0x150a9516f28>"
      ]
     },
     "metadata": {},
     "output_type": "display_data"
    }
   ],
   "source": [
    "%matplotlib inline\n",
    "import matplotlib.pyplot as plt\n",
    "python_course_green = \"#476042\"\n",
    "plt.figure(figsize=(12, 10))\n",
    "plt.subplot(221) # equivalent to: plt.subplot(2, 2, 1)\n",
    "\n",
    "Test=[0.61,0.74,0.67,0.71,0.81,0.53]\n",
    "labels=['KNN','RFC','MLP','DTree','NB','SVM']\n",
    "xs=[i for i,_ in enumerate(labels)]\n",
    "plt.bar(xs,Test)\n",
    "plt.xticks(xs,labels)\n",
    "plt.title('GridSearch Cross Validation')\n",
    "plt.xlabel('Algoritm ML')\n",
    "plt.ylabel('Accuracy')\n",
    "plt.legend(loc='lower right')\n",
    "\n",
    "\n",
    "\n",
    "plt.subplot(222)\n",
    "\n",
    "\n",
    "Train=[0.62,0.77,0.53,0.69,0.80,0.53]\n",
    "labels=['KNN','RFC','MLP','DTree','NB','SVM']\n",
    "xs=[i for i,_ in enumerate(labels)]\n",
    "plt.bar(xs,Train)\n",
    "plt.xticks(xs,labels)\n",
    "plt.title('Random Search Parameter tuning')\n",
    "plt.xlabel('Algoritm ML')\n",
    "plt.ylabel('Accuracy')\n",
    "plt.legend(loc='lower right')\n",
    "\n",
    "\n",
    "\n",
    "plt.plot()\n",
    "plt.show()"
   ]
  },
  {
   "cell_type": "code",
   "execution_count": 36,
   "metadata": {},
   "outputs": [
    {
     "name": "stderr",
     "output_type": "stream",
     "text": [
      "C:\\ProgramData\\Anaconda3\\lib\\site-packages\\sklearn\\utils\\validation.py:475: DataConversionWarning: Data with input dtype int64 was converted to float64 by StandardScaler.\n",
      "  warnings.warn(msg, DataConversionWarning)\n"
     ]
    },
    {
     "data": {
      "image/png": "[encoded data removed]",
      "text/plain": [
       "<matplotlib.figure.Figure at 0x150a91cd2e8>"
      ]
     },
     "metadata": {},
     "output_type": "display_data"
    },
    {
     "data": {
      "image/png": "[encoded data removed]",
      "text/plain": [
       "<matplotlib.figure.Figure at 0x150a8ce0f60>"
      ]
     },
     "metadata": {},
     "output_type": "display_data"
    }
   ],
   "source": [
    "# K-Nearest Neighbors (K-NN)\n",
    "\n",
    "# Importing the libraries\n",
    "import numpy as np\n",
    "import matplotlib.pyplot as plt\n",
    "import pandas as pd\n",
    "\n",
    "# Importing the dataset\n",
    "dataset = pd.read_excel('Health.xlsx')\n",
    "X = dataset.iloc[:, [2, 12]].values\n",
    "y = dataset.iloc[:, 4].values\n",
    "\n",
    "# Splitting the dataset into the Training set and Test set\n",
    "from sklearn.cross_validation import train_test_split\n",
    "X_train, X_test, y_train, y_test = train_test_split(X, y, test_size = 0.25, random_state = 0)\n",
    "\n",
    "# Feature Scaling\n",
    "from sklearn.preprocessing import StandardScaler\n",
    "sc = StandardScaler()\n",
    "X_train = sc.fit_transform(X_train)\n",
    "X_test = sc.transform(X_test)\n",
    "\n",
    "# Fitting K-NN to the Training set\n",
    "from sklearn.neighbors import KNeighborsClassifier\n",
    "classifier = KNeighborsClassifier(n_neighbors = 5, metric = 'minkowski', p = 2)\n",
    "classifier.fit(X_train, y_train)\n",
    "\n",
    "# Predicting the Test set results\n",
    "y_pred = classifier.predict(X_test)\n",
    "\n",
    "# Making the Confusion Matrix\n",
    "from sklearn.metrics import confusion_matrix\n",
    "cm = confusion_matrix(y_test, y_pred)\n",
    "\n",
    "# Visualising the Training set results\n",
    "from matplotlib.colors import ListedColormap\n",
    "X_set, y_set = X_train, y_train\n",
    "X1, X2 = np.meshgrid(np.arange(start = X_set[:, 0].min() - 1, stop = X_set[:, 0].max() + 1, step = 0.01),\n",
    "                     np.arange(start = X_set[:, 1].min() - 1, stop = X_set[:, 1].max() + 1, step = 0.01))\n",
    "plt.contourf(X1, X2, classifier.predict(np.array([X1.ravel(), X2.ravel()]).T).reshape(X1.shape),\n",
    "             alpha = 0.75, cmap = ListedColormap(('red', 'green')))\n",
    "plt.xlim(X1.min(), X1.max())\n",
    "plt.ylim(X2.min(), X2.max())\n",
    "for i, j in enumerate(np.unique(y_set)):\n",
    "    plt.scatter(X_set[y_set == j, 0], X_set[y_set == j, 1],\n",
    "                c = ListedColormap(('red', 'green'))(i), label = j)\n",
    "plt.title('K-NN (Training set)')\n",
    "plt.xlabel('Age')\n",
    "plt.ylabel('Estimated Salary')\n",
    "plt.legend()\n",
    "plt.show()\n",
    "\n",
    "# Visualising the Test set results\n",
    "from matplotlib.colors import ListedColormap\n",
    "X_set, y_set = X_test, y_test\n",
    "X1, X2 = np.meshgrid(np.arange(start = X_set[:, 0].min() - 1, stop = X_set[:, 0].max() + 1, step = 0.01),\n",
    "                     np.arange(start = X_set[:, 1].min() - 1, stop = X_set[:, 1].max() + 1, step = 0.01))\n",
    "plt.contourf(X1, X2, classifier.predict(np.array([X1.ravel(), X2.ravel()]).T).reshape(X1.shape),\n",
    "             alpha = 0.75, cmap = ListedColormap(('red', 'green')))\n",
    "plt.xlim(X1.min(), X1.max())\n",
    "plt.ylim(X2.min(), X2.max())\n",
    "for i, j in enumerate(np.unique(y_set)):\n",
    "    plt.scatter(X_set[y_set == j, 0], X_set[y_set == j, 1],\n",
    "                c = ListedColormap(('red', 'green'))(i), label = j)\n",
    "plt.title('K-NN (Test set)')\n",
    "plt.xlabel('Age')\n",
    "plt.ylabel('Estimated Salary')\n",
    "plt.legend()\n",
    "plt.show()"
   ]
  },
  {
   "cell_type": "code",
   "execution_count": null,
   "metadata": {},
   "outputs": [],
   "source": []
  },
  {
   "cell_type": "code",
   "execution_count": null,
   "metadata": {},
   "outputs": [],
   "source": []
  },
  {
   "cell_type": "code",
   "execution_count": 37,
   "metadata": {},
   "outputs": [],
   "source": [
    "#اتمام الگوریتم شبیه سازی \n",
    "#شروع انتخاب ویژگی"
   ]
  },
  {
   "cell_type": "code",
   "execution_count": 38,
   "metadata": {},
   "outputs": [
    {
     "name": "stdout",
     "output_type": "stream",
     "text": [
      "0.7507565450422593\n"
     ]
    }
   ],
   "source": [
    "##We have designed the Relief algorithms to be integrated directly into scikit-learn \n",
    "    #machine learning workflows. For example, the ReliefF algorithm can be \n",
    "    #used as a feature selection step in a scikit-learn pipeline as follows.\n",
    "\n",
    "import pandas as pd\n",
    "import numpy as np\n",
    "from sklearn.pipeline import make_pipeline\n",
    "from skrebate import ReliefF\n",
    "from sklearn.ensemble import RandomForestClassifier\n",
    "from sklearn.model_selection import cross_val_score\n",
    "\n",
    "genetic_data = pd.read_excel('Health.xlsx')\n",
    "\n",
    "features, labels = genetic_data.drop('ehtemal voghu bimari ghalbi', axis=1).values, genetic_data['ehtemal voghu bimari ghalbi'].values\n",
    "\n",
    "clf = make_pipeline(ReliefF(n_features_to_select=2, n_neighbors=100),\n",
    "                    RandomForestClassifier(n_estimators=100))\n",
    "\n",
    "print(np.mean(cross_val_score(clf, features, labels)))"
   ]
  },
  {
   "cell_type": "code",
   "execution_count": null,
   "metadata": {},
   "outputs": [],
   "source": []
  }
 ],
 "metadata": {
  "kernelspec": {
   "display_name": "Python 3",
   "language": "python",
   "name": "python3"
  },
  "language_info": {
   "codemirror_mode": {
    "name": "ipython",
    "version": 3
   },
   "file_extension": ".py",
   "mimetype": "text/x-python",
   "name": "python",
   "nbconvert_exporter": "python",
   "pygments_lexer": "ipython3",
   "version": "3.6.4"
  }
 },
 "nbformat": 4,
 "nbformat_minor": 2
}
